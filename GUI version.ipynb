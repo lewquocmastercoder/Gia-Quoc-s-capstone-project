{
  "cells": [
    {
      "cell_type": "markdown",
      "metadata": {
        "id": "WIXO9uJ3hy54"
      },
      "source": [
        "### **ST1/ST1G Assignment 9 (Capstone Programming Project)**"
      ]
    },
    {
      "cell_type": "code",
      "execution_count": null,
      "metadata": {
        "colab": {
          "base_uri": "https://localhost:8080/"
        },
        "id": "7XQ_wg2_BCsP",
        "outputId": "4b4ffa87-16e5-4d00-f165-07ce73e0af6d"
      },
      "outputs": [
        {
          "name": "stdout",
          "output_type": "stream",
          "text": [
            "Mounted at /content/drive\n"
          ]
        }
      ],
      "source": [
        "from google.colab import drive\n",
        "drive.mount('/content/drive')"
      ]
    },
    {
      "cell_type": "code",
      "execution_count": 2,
      "metadata": {
        "id": "0BW93n-QBg4i"
      },
      "outputs": [],
      "source": [
        "import os\n",
        "os.environ['KAGGLE_CONFIG_DIR'] = '/content'"
      ]
    },
    {
      "cell_type": "markdown",
      "metadata": {
        "id": "Pvg5cZSpiA0a"
      },
      "source": [
        "## Step 1: Reading the data Reading the data with python"
      ]
    },
    {
      "cell_type": "code",
      "execution_count": 3,
      "metadata": {
        "colab": {
          "base_uri": "https://localhost:8080/",
          "height": 398
        },
        "id": "hPDKnvDLBYkh",
        "outputId": "af8d738b-53d9-4474-c2ba-5d98b70e5bbf"
      },
      "outputs": [
        {
          "name": "stdout",
          "output_type": "stream",
          "text": [
            "Shape befor deleting duplicate values: (53940, 11)\n",
            "Shape After deleting duplicate values: (53940, 11)\n"
          ]
        },
        {
          "data": {
            "text/html": [
              "<div>\n",
              "<style scoped>\n",
              "    .dataframe tbody tr th:only-of-type {\n",
              "        vertical-align: middle;\n",
              "    }\n",
              "\n",
              "    .dataframe tbody tr th {\n",
              "        vertical-align: top;\n",
              "    }\n",
              "\n",
              "    .dataframe thead th {\n",
              "        text-align: right;\n",
              "    }\n",
              "</style>\n",
              "<table border=\"1\" class=\"dataframe\">\n",
              "  <thead>\n",
              "    <tr style=\"text-align: right;\">\n",
              "      <th></th>\n",
              "      <th>Unnamed: 0</th>\n",
              "      <th>carat</th>\n",
              "      <th>cut</th>\n",
              "      <th>color</th>\n",
              "      <th>clarity</th>\n",
              "      <th>depth</th>\n",
              "      <th>table</th>\n",
              "      <th>price</th>\n",
              "      <th>x</th>\n",
              "      <th>y</th>\n",
              "      <th>z</th>\n",
              "    </tr>\n",
              "  </thead>\n",
              "  <tbody>\n",
              "    <tr>\n",
              "      <th>0</th>\n",
              "      <td>1</td>\n",
              "      <td>0.23</td>\n",
              "      <td>Ideal</td>\n",
              "      <td>E</td>\n",
              "      <td>SI2</td>\n",
              "      <td>61.5</td>\n",
              "      <td>55.0</td>\n",
              "      <td>326</td>\n",
              "      <td>3.95</td>\n",
              "      <td>3.98</td>\n",
              "      <td>2.43</td>\n",
              "    </tr>\n",
              "    <tr>\n",
              "      <th>1</th>\n",
              "      <td>2</td>\n",
              "      <td>0.21</td>\n",
              "      <td>Premium</td>\n",
              "      <td>E</td>\n",
              "      <td>SI1</td>\n",
              "      <td>59.8</td>\n",
              "      <td>61.0</td>\n",
              "      <td>326</td>\n",
              "      <td>3.89</td>\n",
              "      <td>3.84</td>\n",
              "      <td>2.31</td>\n",
              "    </tr>\n",
              "    <tr>\n",
              "      <th>2</th>\n",
              "      <td>3</td>\n",
              "      <td>0.23</td>\n",
              "      <td>Good</td>\n",
              "      <td>E</td>\n",
              "      <td>VS1</td>\n",
              "      <td>56.9</td>\n",
              "      <td>65.0</td>\n",
              "      <td>327</td>\n",
              "      <td>4.05</td>\n",
              "      <td>4.07</td>\n",
              "      <td>2.31</td>\n",
              "    </tr>\n",
              "    <tr>\n",
              "      <th>3</th>\n",
              "      <td>4</td>\n",
              "      <td>0.29</td>\n",
              "      <td>Premium</td>\n",
              "      <td>I</td>\n",
              "      <td>VS2</td>\n",
              "      <td>62.4</td>\n",
              "      <td>58.0</td>\n",
              "      <td>334</td>\n",
              "      <td>4.20</td>\n",
              "      <td>4.23</td>\n",
              "      <td>2.63</td>\n",
              "    </tr>\n",
              "    <tr>\n",
              "      <th>4</th>\n",
              "      <td>5</td>\n",
              "      <td>0.31</td>\n",
              "      <td>Good</td>\n",
              "      <td>J</td>\n",
              "      <td>SI2</td>\n",
              "      <td>63.3</td>\n",
              "      <td>58.0</td>\n",
              "      <td>335</td>\n",
              "      <td>4.34</td>\n",
              "      <td>4.35</td>\n",
              "      <td>2.75</td>\n",
              "    </tr>\n",
              "    <tr>\n",
              "      <th>5</th>\n",
              "      <td>6</td>\n",
              "      <td>0.24</td>\n",
              "      <td>Very Good</td>\n",
              "      <td>J</td>\n",
              "      <td>VVS2</td>\n",
              "      <td>62.8</td>\n",
              "      <td>57.0</td>\n",
              "      <td>336</td>\n",
              "      <td>3.94</td>\n",
              "      <td>3.96</td>\n",
              "      <td>2.48</td>\n",
              "    </tr>\n",
              "    <tr>\n",
              "      <th>6</th>\n",
              "      <td>7</td>\n",
              "      <td>0.24</td>\n",
              "      <td>Very Good</td>\n",
              "      <td>I</td>\n",
              "      <td>VVS1</td>\n",
              "      <td>62.3</td>\n",
              "      <td>57.0</td>\n",
              "      <td>336</td>\n",
              "      <td>3.95</td>\n",
              "      <td>3.98</td>\n",
              "      <td>2.47</td>\n",
              "    </tr>\n",
              "    <tr>\n",
              "      <th>7</th>\n",
              "      <td>8</td>\n",
              "      <td>0.26</td>\n",
              "      <td>Very Good</td>\n",
              "      <td>H</td>\n",
              "      <td>SI1</td>\n",
              "      <td>61.9</td>\n",
              "      <td>55.0</td>\n",
              "      <td>337</td>\n",
              "      <td>4.07</td>\n",
              "      <td>4.11</td>\n",
              "      <td>2.53</td>\n",
              "    </tr>\n",
              "    <tr>\n",
              "      <th>8</th>\n",
              "      <td>9</td>\n",
              "      <td>0.22</td>\n",
              "      <td>Fair</td>\n",
              "      <td>E</td>\n",
              "      <td>VS2</td>\n",
              "      <td>65.1</td>\n",
              "      <td>61.0</td>\n",
              "      <td>337</td>\n",
              "      <td>3.87</td>\n",
              "      <td>3.78</td>\n",
              "      <td>2.49</td>\n",
              "    </tr>\n",
              "    <tr>\n",
              "      <th>9</th>\n",
              "      <td>10</td>\n",
              "      <td>0.23</td>\n",
              "      <td>Very Good</td>\n",
              "      <td>H</td>\n",
              "      <td>VS1</td>\n",
              "      <td>59.4</td>\n",
              "      <td>61.0</td>\n",
              "      <td>338</td>\n",
              "      <td>4.00</td>\n",
              "      <td>4.05</td>\n",
              "      <td>2.39</td>\n",
              "    </tr>\n",
              "  </tbody>\n",
              "</table>\n",
              "</div>"
            ],
            "text/plain": [
              "   Unnamed: 0  carat        cut color clarity  depth  table  price     x  \\\n",
              "0           1   0.23      Ideal     E     SI2   61.5   55.0    326  3.95   \n",
              "1           2   0.21    Premium     E     SI1   59.8   61.0    326  3.89   \n",
              "2           3   0.23       Good     E     VS1   56.9   65.0    327  4.05   \n",
              "3           4   0.29    Premium     I     VS2   62.4   58.0    334  4.20   \n",
              "4           5   0.31       Good     J     SI2   63.3   58.0    335  4.34   \n",
              "5           6   0.24  Very Good     J    VVS2   62.8   57.0    336  3.94   \n",
              "6           7   0.24  Very Good     I    VVS1   62.3   57.0    336  3.95   \n",
              "7           8   0.26  Very Good     H     SI1   61.9   55.0    337  4.07   \n",
              "8           9   0.22       Fair     E     VS2   65.1   61.0    337  3.87   \n",
              "9          10   0.23  Very Good     H     VS1   59.4   61.0    338  4.00   \n",
              "\n",
              "      y     z  \n",
              "0  3.98  2.43  \n",
              "1  3.84  2.31  \n",
              "2  4.07  2.31  \n",
              "3  4.23  2.63  \n",
              "4  4.35  2.75  \n",
              "5  3.96  2.48  \n",
              "6  3.98  2.47  \n",
              "7  4.11  2.53  \n",
              "8  3.78  2.49  \n",
              "9  4.05  2.39  "
            ]
          },
          "execution_count": 3,
          "metadata": {},
          "output_type": "execute_result"
        }
      ],
      "source": [
        "import pandas as pd\n",
        "import numpy as np\n",
        "diamonds = pd.read_csv('diamonds.csv', encoding='latin')\n",
        "print('Shape befor deleting duplicate values:', diamonds.shape)\n",
        "\n",
        "# Removing duplicate rows if any\n",
        "diamonds=diamonds.drop_duplicates()\n",
        "print('Shape After deleting duplicate values:', diamonds.shape)\n",
        "\n",
        "diamonds.head(10)"
      ]
    },
    {
      "cell_type": "code",
      "execution_count": 4,
      "metadata": {
        "colab": {
          "base_uri": "https://localhost:8080/",
          "height": 363
        },
        "id": "vL70mbrlB1ei",
        "outputId": "75bdaecf-5990-4e18-9b0d-94982fe4febf"
      },
      "outputs": [
        {
          "data": {
            "text/html": [
              "<div>\n",
              "<style scoped>\n",
              "    .dataframe tbody tr th:only-of-type {\n",
              "        vertical-align: middle;\n",
              "    }\n",
              "\n",
              "    .dataframe tbody tr th {\n",
              "        vertical-align: top;\n",
              "    }\n",
              "\n",
              "    .dataframe thead th {\n",
              "        text-align: right;\n",
              "    }\n",
              "</style>\n",
              "<table border=\"1\" class=\"dataframe\">\n",
              "  <thead>\n",
              "    <tr style=\"text-align: right;\">\n",
              "      <th></th>\n",
              "      <th>Unnamed: 0</th>\n",
              "      <th>carat</th>\n",
              "      <th>cut</th>\n",
              "      <th>color</th>\n",
              "      <th>clarity</th>\n",
              "      <th>depth</th>\n",
              "      <th>table</th>\n",
              "      <th>price</th>\n",
              "      <th>x</th>\n",
              "      <th>y</th>\n",
              "      <th>z</th>\n",
              "    </tr>\n",
              "  </thead>\n",
              "  <tbody>\n",
              "    <tr>\n",
              "      <th>53930</th>\n",
              "      <td>53931</td>\n",
              "      <td>0.71</td>\n",
              "      <td>Premium</td>\n",
              "      <td>E</td>\n",
              "      <td>SI1</td>\n",
              "      <td>60.5</td>\n",
              "      <td>55.0</td>\n",
              "      <td>2756</td>\n",
              "      <td>5.79</td>\n",
              "      <td>5.74</td>\n",
              "      <td>3.49</td>\n",
              "    </tr>\n",
              "    <tr>\n",
              "      <th>53931</th>\n",
              "      <td>53932</td>\n",
              "      <td>0.71</td>\n",
              "      <td>Premium</td>\n",
              "      <td>F</td>\n",
              "      <td>SI1</td>\n",
              "      <td>59.8</td>\n",
              "      <td>62.0</td>\n",
              "      <td>2756</td>\n",
              "      <td>5.74</td>\n",
              "      <td>5.73</td>\n",
              "      <td>3.43</td>\n",
              "    </tr>\n",
              "    <tr>\n",
              "      <th>53932</th>\n",
              "      <td>53933</td>\n",
              "      <td>0.70</td>\n",
              "      <td>Very Good</td>\n",
              "      <td>E</td>\n",
              "      <td>VS2</td>\n",
              "      <td>60.5</td>\n",
              "      <td>59.0</td>\n",
              "      <td>2757</td>\n",
              "      <td>5.71</td>\n",
              "      <td>5.76</td>\n",
              "      <td>3.47</td>\n",
              "    </tr>\n",
              "    <tr>\n",
              "      <th>53933</th>\n",
              "      <td>53934</td>\n",
              "      <td>0.70</td>\n",
              "      <td>Very Good</td>\n",
              "      <td>E</td>\n",
              "      <td>VS2</td>\n",
              "      <td>61.2</td>\n",
              "      <td>59.0</td>\n",
              "      <td>2757</td>\n",
              "      <td>5.69</td>\n",
              "      <td>5.72</td>\n",
              "      <td>3.49</td>\n",
              "    </tr>\n",
              "    <tr>\n",
              "      <th>53934</th>\n",
              "      <td>53935</td>\n",
              "      <td>0.72</td>\n",
              "      <td>Premium</td>\n",
              "      <td>D</td>\n",
              "      <td>SI1</td>\n",
              "      <td>62.7</td>\n",
              "      <td>59.0</td>\n",
              "      <td>2757</td>\n",
              "      <td>5.69</td>\n",
              "      <td>5.73</td>\n",
              "      <td>3.58</td>\n",
              "    </tr>\n",
              "    <tr>\n",
              "      <th>53935</th>\n",
              "      <td>53936</td>\n",
              "      <td>0.72</td>\n",
              "      <td>Ideal</td>\n",
              "      <td>D</td>\n",
              "      <td>SI1</td>\n",
              "      <td>60.8</td>\n",
              "      <td>57.0</td>\n",
              "      <td>2757</td>\n",
              "      <td>5.75</td>\n",
              "      <td>5.76</td>\n",
              "      <td>3.50</td>\n",
              "    </tr>\n",
              "    <tr>\n",
              "      <th>53936</th>\n",
              "      <td>53937</td>\n",
              "      <td>0.72</td>\n",
              "      <td>Good</td>\n",
              "      <td>D</td>\n",
              "      <td>SI1</td>\n",
              "      <td>63.1</td>\n",
              "      <td>55.0</td>\n",
              "      <td>2757</td>\n",
              "      <td>5.69</td>\n",
              "      <td>5.75</td>\n",
              "      <td>3.61</td>\n",
              "    </tr>\n",
              "    <tr>\n",
              "      <th>53937</th>\n",
              "      <td>53938</td>\n",
              "      <td>0.70</td>\n",
              "      <td>Very Good</td>\n",
              "      <td>D</td>\n",
              "      <td>SI1</td>\n",
              "      <td>62.8</td>\n",
              "      <td>60.0</td>\n",
              "      <td>2757</td>\n",
              "      <td>5.66</td>\n",
              "      <td>5.68</td>\n",
              "      <td>3.56</td>\n",
              "    </tr>\n",
              "    <tr>\n",
              "      <th>53938</th>\n",
              "      <td>53939</td>\n",
              "      <td>0.86</td>\n",
              "      <td>Premium</td>\n",
              "      <td>H</td>\n",
              "      <td>SI2</td>\n",
              "      <td>61.0</td>\n",
              "      <td>58.0</td>\n",
              "      <td>2757</td>\n",
              "      <td>6.15</td>\n",
              "      <td>6.12</td>\n",
              "      <td>3.74</td>\n",
              "    </tr>\n",
              "    <tr>\n",
              "      <th>53939</th>\n",
              "      <td>53940</td>\n",
              "      <td>0.75</td>\n",
              "      <td>Ideal</td>\n",
              "      <td>D</td>\n",
              "      <td>SI2</td>\n",
              "      <td>62.2</td>\n",
              "      <td>55.0</td>\n",
              "      <td>2757</td>\n",
              "      <td>5.83</td>\n",
              "      <td>5.87</td>\n",
              "      <td>3.64</td>\n",
              "    </tr>\n",
              "  </tbody>\n",
              "</table>\n",
              "</div>"
            ],
            "text/plain": [
              "       Unnamed: 0  carat        cut color clarity  depth  table  price     x  \\\n",
              "53930       53931   0.71    Premium     E     SI1   60.5   55.0   2756  5.79   \n",
              "53931       53932   0.71    Premium     F     SI1   59.8   62.0   2756  5.74   \n",
              "53932       53933   0.70  Very Good     E     VS2   60.5   59.0   2757  5.71   \n",
              "53933       53934   0.70  Very Good     E     VS2   61.2   59.0   2757  5.69   \n",
              "53934       53935   0.72    Premium     D     SI1   62.7   59.0   2757  5.69   \n",
              "53935       53936   0.72      Ideal     D     SI1   60.8   57.0   2757  5.75   \n",
              "53936       53937   0.72       Good     D     SI1   63.1   55.0   2757  5.69   \n",
              "53937       53938   0.70  Very Good     D     SI1   62.8   60.0   2757  5.66   \n",
              "53938       53939   0.86    Premium     H     SI2   61.0   58.0   2757  6.15   \n",
              "53939       53940   0.75      Ideal     D     SI2   62.2   55.0   2757  5.83   \n",
              "\n",
              "          y     z  \n",
              "53930  5.74  3.49  \n",
              "53931  5.73  3.43  \n",
              "53932  5.76  3.47  \n",
              "53933  5.72  3.49  \n",
              "53934  5.73  3.58  \n",
              "53935  5.76  3.50  \n",
              "53936  5.75  3.61  \n",
              "53937  5.68  3.56  \n",
              "53938  6.12  3.74  \n",
              "53939  5.87  3.64  "
            ]
          },
          "execution_count": 4,
          "metadata": {},
          "output_type": "execute_result"
        }
      ],
      "source": [
        "diamonds.tail(10)\n"
      ]
    },
    {
      "cell_type": "markdown",
      "metadata": {
        "id": "l59trkAxiO7R"
      },
      "source": [
        "Key Observations from Step 1 about Data Description:\n",
        "This file contains 10 rows of data, likely representing individual diamonds with specific characteristics.\n",
        "\n",
        "There are 11 attributes in the dataset, outlined below:\n",
        "\n",
        "\n",
        "Unnamed: 0 - The index or identifier for each diamond.\n",
        "\n",
        "carat - The weight of the diamond in carats.\n",
        "\n",
        "cut - The quality of the cut, with possible values like Premium, Ideal, Very Good, etc.\n",
        "\n",
        "color - The color grade of the diamond, with values like E, F, H, etc.\n",
        "\n",
        "clarity - The clarity grade, representing the visibility of internal inclusions, such as SI1, VS2, etc.\n",
        "\n",
        "depth - The total depth percentage of the diamond, calculated as\n",
        "\n",
        "table - The width of the diamond's table expressed as a percentage of its average diameter.\n",
        "\n",
        "price - The price of the diamond in USD.\n",
        "\n",
        "x - The length of the diamond in millimeters.\n",
        "\n",
        "y - The width of the diamond in millimeters.\n",
        "\n",
        "z - The depth of the diamond in millimeters."
      ]
    },
    {
      "cell_type": "markdown",
      "metadata": {
        "id": "k9THyTfOCHw2"
      },
      "source": [
        "# **Step 2: Problem Statement Definition**"
      ]
    },
    {
      "cell_type": "markdown",
      "metadata": {
        "id": "RktOWFdcjhv3"
      },
      "source": [
        "Creating a prediction model to predict the price of diamonds\n",
        "\n",
        "Target virable: price\n",
        "\n",
        " Predators/Features: carat,cut,color,clarity,depth,table,price,x,y,z."
      ]
    },
    {
      "cell_type": "markdown",
      "metadata": {
        "id": "_5aaq434kDtf"
      },
      "source": [
        "## **Step 3: Choosing the appropriate ML/AI Algorithm for Data Analysis.**\n",
        "\n",
        "Based on the problem statement we need to create a supervised ML Regression model, as the target variable is Continuous."
      ]
    },
    {
      "cell_type": "markdown",
      "metadata": {
        "id": "GBXx9TfVkMeH"
      },
      "source": [
        "## **Step 4: Looking at the class distribution (Target variable distribution to check if the data is balanced or skewed)**\n",
        "\n",
        "If target variable's distribution is too skewed then the predictive modeling will lead to poor results.\n",
        "\n",
        "Ideally Bell curve is desirable but slightly positive skew or negative skew is also fine.\n",
        "\n",
        "When performing Regression algorithm modelling and analysis, we need to make sure the histogram looks like a bell curve or slight skewed version of it.\n",
        "\n",
        "Otherwise it impacts the Machine Learning algorithms ability to learn all the scenarios from the data.\n",
        "\n",
        "\n",
        "\n"
      ]
    },
    {
      "cell_type": "code",
      "execution_count": 5,
      "metadata": {
        "colab": {
          "base_uri": "https://localhost:8080/",
          "height": 447
        },
        "id": "HM3JQ_zNCWF-",
        "outputId": "759b7dab-8fac-4e50-84f0-219266f13cb8"
      },
      "outputs": [
        {
          "data": {
            "text/plain": [
              "<Axes: >"
            ]
          },
          "execution_count": 5,
          "metadata": {},
          "output_type": "execute_result"
        },
        {
          "data": {
            "image/png": "[encoded data removed]",
            "text/plain": [
              "<Figure size 640x480 with 1 Axes>"
            ]
          },
          "metadata": {},
          "output_type": "display_data"
        }
      ],
      "source": [
        "%matplotlib inline\n",
        "# Creating histogram as the Target variable is Continuous\n",
        "# This will help us to understand the distribution of the diamonds values\n",
        "diamonds['price'].hist()"
      ]
    },
    {
      "cell_type": "code",
      "execution_count": 6,
      "metadata": {
        "colab": {
          "base_uri": "https://localhost:8080/",
          "height": 206
        },
        "id": "EaBMsQPxC6xw",
        "outputId": "786dece1-fce9-4ead-8d86-81143f79c729"
      },
      "outputs": [
        {
          "data": {
            "text/html": [
              "<div>\n",
              "<style scoped>\n",
              "    .dataframe tbody tr th:only-of-type {\n",
              "        vertical-align: middle;\n",
              "    }\n",
              "\n",
              "    .dataframe tbody tr th {\n",
              "        vertical-align: top;\n",
              "    }\n",
              "\n",
              "    .dataframe thead th {\n",
              "        text-align: right;\n",
              "    }\n",
              "</style>\n",
              "<table border=\"1\" class=\"dataframe\">\n",
              "  <thead>\n",
              "    <tr style=\"text-align: right;\">\n",
              "      <th></th>\n",
              "      <th>Unnamed: 0</th>\n",
              "      <th>carat</th>\n",
              "      <th>cut</th>\n",
              "      <th>color</th>\n",
              "      <th>clarity</th>\n",
              "      <th>depth</th>\n",
              "      <th>table</th>\n",
              "      <th>price</th>\n",
              "      <th>x</th>\n",
              "      <th>y</th>\n",
              "      <th>z</th>\n",
              "    </tr>\n",
              "  </thead>\n",
              "  <tbody>\n",
              "    <tr>\n",
              "      <th>0</th>\n",
              "      <td>1</td>\n",
              "      <td>0.23</td>\n",
              "      <td>Ideal</td>\n",
              "      <td>E</td>\n",
              "      <td>SI2</td>\n",
              "      <td>61.5</td>\n",
              "      <td>55.0</td>\n",
              "      <td>326</td>\n",
              "      <td>3.95</td>\n",
              "      <td>3.98</td>\n",
              "      <td>2.43</td>\n",
              "    </tr>\n",
              "    <tr>\n",
              "      <th>1</th>\n",
              "      <td>2</td>\n",
              "      <td>0.21</td>\n",
              "      <td>Premium</td>\n",
              "      <td>E</td>\n",
              "      <td>SI1</td>\n",
              "      <td>59.8</td>\n",
              "      <td>61.0</td>\n",
              "      <td>326</td>\n",
              "      <td>3.89</td>\n",
              "      <td>3.84</td>\n",
              "      <td>2.31</td>\n",
              "    </tr>\n",
              "    <tr>\n",
              "      <th>2</th>\n",
              "      <td>3</td>\n",
              "      <td>0.23</td>\n",
              "      <td>Good</td>\n",
              "      <td>E</td>\n",
              "      <td>VS1</td>\n",
              "      <td>56.9</td>\n",
              "      <td>65.0</td>\n",
              "      <td>327</td>\n",
              "      <td>4.05</td>\n",
              "      <td>4.07</td>\n",
              "      <td>2.31</td>\n",
              "    </tr>\n",
              "    <tr>\n",
              "      <th>3</th>\n",
              "      <td>4</td>\n",
              "      <td>0.29</td>\n",
              "      <td>Premium</td>\n",
              "      <td>I</td>\n",
              "      <td>VS2</td>\n",
              "      <td>62.4</td>\n",
              "      <td>58.0</td>\n",
              "      <td>334</td>\n",
              "      <td>4.20</td>\n",
              "      <td>4.23</td>\n",
              "      <td>2.63</td>\n",
              "    </tr>\n",
              "    <tr>\n",
              "      <th>4</th>\n",
              "      <td>5</td>\n",
              "      <td>0.31</td>\n",
              "      <td>Good</td>\n",
              "      <td>J</td>\n",
              "      <td>SI2</td>\n",
              "      <td>63.3</td>\n",
              "      <td>58.0</td>\n",
              "      <td>335</td>\n",
              "      <td>4.34</td>\n",
              "      <td>4.35</td>\n",
              "      <td>2.75</td>\n",
              "    </tr>\n",
              "  </tbody>\n",
              "</table>\n",
              "</div>"
            ],
            "text/plain": [
              "   Unnamed: 0  carat      cut color clarity  depth  table  price     x     y  \\\n",
              "0           1   0.23    Ideal     E     SI2   61.5   55.0    326  3.95  3.98   \n",
              "1           2   0.21  Premium     E     SI1   59.8   61.0    326  3.89  3.84   \n",
              "2           3   0.23     Good     E     VS1   56.9   65.0    327  4.05  4.07   \n",
              "3           4   0.29  Premium     I     VS2   62.4   58.0    334  4.20  4.23   \n",
              "4           5   0.31     Good     J     SI2   63.3   58.0    335  4.34  4.35   \n",
              "\n",
              "      z  \n",
              "0  2.43  \n",
              "1  2.31  \n",
              "2  2.31  \n",
              "3  2.63  \n",
              "4  2.75  "
            ]
          },
          "execution_count": 6,
          "metadata": {},
          "output_type": "execute_result"
        }
      ],
      "source": [
        "# Looking at HEAD in data\n",
        "diamonds.head()"
      ]
    },
    {
      "cell_type": "code",
      "execution_count": 7,
      "metadata": {
        "colab": {
          "base_uri": "https://localhost:8080/",
          "height": 206
        },
        "id": "ZcSGCH80DAB4",
        "outputId": "4b1a4e55-0396-44dc-b468-c5c71a568ce5"
      },
      "outputs": [
        {
          "data": {
            "text/html": [
              "<div>\n",
              "<style scoped>\n",
              "    .dataframe tbody tr th:only-of-type {\n",
              "        vertical-align: middle;\n",
              "    }\n",
              "\n",
              "    .dataframe tbody tr th {\n",
              "        vertical-align: top;\n",
              "    }\n",
              "\n",
              "    .dataframe thead th {\n",
              "        text-align: right;\n",
              "    }\n",
              "</style>\n",
              "<table border=\"1\" class=\"dataframe\">\n",
              "  <thead>\n",
              "    <tr style=\"text-align: right;\">\n",
              "      <th></th>\n",
              "      <th>Unnamed: 0</th>\n",
              "      <th>carat</th>\n",
              "      <th>cut</th>\n",
              "      <th>color</th>\n",
              "      <th>clarity</th>\n",
              "      <th>depth</th>\n",
              "      <th>table</th>\n",
              "      <th>price</th>\n",
              "      <th>x</th>\n",
              "      <th>y</th>\n",
              "      <th>z</th>\n",
              "    </tr>\n",
              "  </thead>\n",
              "  <tbody>\n",
              "    <tr>\n",
              "      <th>53935</th>\n",
              "      <td>53936</td>\n",
              "      <td>0.72</td>\n",
              "      <td>Ideal</td>\n",
              "      <td>D</td>\n",
              "      <td>SI1</td>\n",
              "      <td>60.8</td>\n",
              "      <td>57.0</td>\n",
              "      <td>2757</td>\n",
              "      <td>5.75</td>\n",
              "      <td>5.76</td>\n",
              "      <td>3.50</td>\n",
              "    </tr>\n",
              "    <tr>\n",
              "      <th>53936</th>\n",
              "      <td>53937</td>\n",
              "      <td>0.72</td>\n",
              "      <td>Good</td>\n",
              "      <td>D</td>\n",
              "      <td>SI1</td>\n",
              "      <td>63.1</td>\n",
              "      <td>55.0</td>\n",
              "      <td>2757</td>\n",
              "      <td>5.69</td>\n",
              "      <td>5.75</td>\n",
              "      <td>3.61</td>\n",
              "    </tr>\n",
              "    <tr>\n",
              "      <th>53937</th>\n",
              "      <td>53938</td>\n",
              "      <td>0.70</td>\n",
              "      <td>Very Good</td>\n",
              "      <td>D</td>\n",
              "      <td>SI1</td>\n",
              "      <td>62.8</td>\n",
              "      <td>60.0</td>\n",
              "      <td>2757</td>\n",
              "      <td>5.66</td>\n",
              "      <td>5.68</td>\n",
              "      <td>3.56</td>\n",
              "    </tr>\n",
              "    <tr>\n",
              "      <th>53938</th>\n",
              "      <td>53939</td>\n",
              "      <td>0.86</td>\n",
              "      <td>Premium</td>\n",
              "      <td>H</td>\n",
              "      <td>SI2</td>\n",
              "      <td>61.0</td>\n",
              "      <td>58.0</td>\n",
              "      <td>2757</td>\n",
              "      <td>6.15</td>\n",
              "      <td>6.12</td>\n",
              "      <td>3.74</td>\n",
              "    </tr>\n",
              "    <tr>\n",
              "      <th>53939</th>\n",
              "      <td>53940</td>\n",
              "      <td>0.75</td>\n",
              "      <td>Ideal</td>\n",
              "      <td>D</td>\n",
              "      <td>SI2</td>\n",
              "      <td>62.2</td>\n",
              "      <td>55.0</td>\n",
              "      <td>2757</td>\n",
              "      <td>5.83</td>\n",
              "      <td>5.87</td>\n",
              "      <td>3.64</td>\n",
              "    </tr>\n",
              "  </tbody>\n",
              "</table>\n",
              "</div>"
            ],
            "text/plain": [
              "       Unnamed: 0  carat        cut color clarity  depth  table  price     x  \\\n",
              "53935       53936   0.72      Ideal     D     SI1   60.8   57.0   2757  5.75   \n",
              "53936       53937   0.72       Good     D     SI1   63.1   55.0   2757  5.69   \n",
              "53937       53938   0.70  Very Good     D     SI1   62.8   60.0   2757  5.66   \n",
              "53938       53939   0.86    Premium     H     SI2   61.0   58.0   2757  6.15   \n",
              "53939       53940   0.75      Ideal     D     SI2   62.2   55.0   2757  5.83   \n",
              "\n",
              "          y     z  \n",
              "53935  5.76  3.50  \n",
              "53936  5.75  3.61  \n",
              "53937  5.68  3.56  \n",
              "53938  6.12  3.74  \n",
              "53939  5.87  3.64  "
            ]
          },
          "execution_count": 7,
          "metadata": {},
          "output_type": "execute_result"
        }
      ],
      "source": [
        "# Looking at TAIL in data\n",
        "diamonds.tail()"
      ]
    },
    {
      "cell_type": "code",
      "execution_count": 8,
      "metadata": {
        "colab": {
          "base_uri": "https://localhost:8080/"
        },
        "id": "K6X_AJt4DFna",
        "outputId": "d4198851-0612-4f55-cd86-6ff4684d51c7"
      },
      "outputs": [
        {
          "name": "stdout",
          "output_type": "stream",
          "text": [
            "<class 'pandas.core.frame.DataFrame'>\n",
            "RangeIndex: 53940 entries, 0 to 53939\n",
            "Data columns (total 11 columns):\n",
            " #   Column      Non-Null Count  Dtype  \n",
            "---  ------      --------------  -----  \n",
            " 0   Unnamed: 0  53940 non-null  int64  \n",
            " 1   carat       53940 non-null  float64\n",
            " 2   cut         53940 non-null  object \n",
            " 3   color       53940 non-null  object \n",
            " 4   clarity     53940 non-null  object \n",
            " 5   depth       53940 non-null  float64\n",
            " 6   table       53940 non-null  float64\n",
            " 7   price       53940 non-null  int64  \n",
            " 8   x           53940 non-null  float64\n",
            " 9   y           53940 non-null  float64\n",
            " 10  z           53940 non-null  float64\n",
            "dtypes: float64(6), int64(2), object(3)\n",
            "memory usage: 4.5+ MB\n"
          ]
        }
      ],
      "source": [
        "# Looking at INFO in data\n",
        "diamonds.info()\n"
      ]
    },
    {
      "cell_type": "code",
      "execution_count": 9,
      "metadata": {
        "colab": {
          "base_uri": "https://localhost:8080/",
          "height": 414
        },
        "id": "Vxl-voUhDMCP",
        "outputId": "24b0a13c-7527-4fe9-e713-ae590d2f914f"
      },
      "outputs": [
        {
          "data": {
            "text/html": [
              "<div>\n",
              "<style scoped>\n",
              "    .dataframe tbody tr th:only-of-type {\n",
              "        vertical-align: middle;\n",
              "    }\n",
              "\n",
              "    .dataframe tbody tr th {\n",
              "        vertical-align: top;\n",
              "    }\n",
              "\n",
              "    .dataframe thead th {\n",
              "        text-align: right;\n",
              "    }\n",
              "</style>\n",
              "<table border=\"1\" class=\"dataframe\">\n",
              "  <thead>\n",
              "    <tr style=\"text-align: right;\">\n",
              "      <th></th>\n",
              "      <th>Unnamed: 0</th>\n",
              "      <th>carat</th>\n",
              "      <th>cut</th>\n",
              "      <th>color</th>\n",
              "      <th>clarity</th>\n",
              "      <th>depth</th>\n",
              "      <th>table</th>\n",
              "      <th>price</th>\n",
              "      <th>x</th>\n",
              "      <th>y</th>\n",
              "      <th>z</th>\n",
              "    </tr>\n",
              "  </thead>\n",
              "  <tbody>\n",
              "    <tr>\n",
              "      <th>count</th>\n",
              "      <td>53940.000000</td>\n",
              "      <td>53940.000000</td>\n",
              "      <td>53940</td>\n",
              "      <td>53940</td>\n",
              "      <td>53940</td>\n",
              "      <td>53940.000000</td>\n",
              "      <td>53940.000000</td>\n",
              "      <td>53940.000000</td>\n",
              "      <td>53940.000000</td>\n",
              "      <td>53940.000000</td>\n",
              "      <td>53940.000000</td>\n",
              "    </tr>\n",
              "    <tr>\n",
              "      <th>unique</th>\n",
              "      <td>NaN</td>\n",
              "      <td>NaN</td>\n",
              "      <td>5</td>\n",
              "      <td>7</td>\n",
              "      <td>8</td>\n",
              "      <td>NaN</td>\n",
              "      <td>NaN</td>\n",
              "      <td>NaN</td>\n",
              "      <td>NaN</td>\n",
              "      <td>NaN</td>\n",
              "      <td>NaN</td>\n",
              "    </tr>\n",
              "    <tr>\n",
              "      <th>top</th>\n",
              "      <td>NaN</td>\n",
              "      <td>NaN</td>\n",
              "      <td>Ideal</td>\n",
              "      <td>G</td>\n",
              "      <td>SI1</td>\n",
              "      <td>NaN</td>\n",
              "      <td>NaN</td>\n",
              "      <td>NaN</td>\n",
              "      <td>NaN</td>\n",
              "      <td>NaN</td>\n",
              "      <td>NaN</td>\n",
              "    </tr>\n",
              "    <tr>\n",
              "      <th>freq</th>\n",
              "      <td>NaN</td>\n",
              "      <td>NaN</td>\n",
              "      <td>21551</td>\n",
              "      <td>11292</td>\n",
              "      <td>13065</td>\n",
              "      <td>NaN</td>\n",
              "      <td>NaN</td>\n",
              "      <td>NaN</td>\n",
              "      <td>NaN</td>\n",
              "      <td>NaN</td>\n",
              "      <td>NaN</td>\n",
              "    </tr>\n",
              "    <tr>\n",
              "      <th>mean</th>\n",
              "      <td>26970.500000</td>\n",
              "      <td>0.797940</td>\n",
              "      <td>NaN</td>\n",
              "      <td>NaN</td>\n",
              "      <td>NaN</td>\n",
              "      <td>61.749405</td>\n",
              "      <td>57.457184</td>\n",
              "      <td>3932.799722</td>\n",
              "      <td>5.731157</td>\n",
              "      <td>5.734526</td>\n",
              "      <td>3.538734</td>\n",
              "    </tr>\n",
              "    <tr>\n",
              "      <th>std</th>\n",
              "      <td>15571.281097</td>\n",
              "      <td>0.474011</td>\n",
              "      <td>NaN</td>\n",
              "      <td>NaN</td>\n",
              "      <td>NaN</td>\n",
              "      <td>1.432621</td>\n",
              "      <td>2.234491</td>\n",
              "      <td>3989.439738</td>\n",
              "      <td>1.121761</td>\n",
              "      <td>1.142135</td>\n",
              "      <td>0.705699</td>\n",
              "    </tr>\n",
              "    <tr>\n",
              "      <th>min</th>\n",
              "      <td>1.000000</td>\n",
              "      <td>0.200000</td>\n",
              "      <td>NaN</td>\n",
              "      <td>NaN</td>\n",
              "      <td>NaN</td>\n",
              "      <td>43.000000</td>\n",
              "      <td>43.000000</td>\n",
              "      <td>326.000000</td>\n",
              "      <td>0.000000</td>\n",
              "      <td>0.000000</td>\n",
              "      <td>0.000000</td>\n",
              "    </tr>\n",
              "    <tr>\n",
              "      <th>25%</th>\n",
              "      <td>13485.750000</td>\n",
              "      <td>0.400000</td>\n",
              "      <td>NaN</td>\n",
              "      <td>NaN</td>\n",
              "      <td>NaN</td>\n",
              "      <td>61.000000</td>\n",
              "      <td>56.000000</td>\n",
              "      <td>950.000000</td>\n",
              "      <td>4.710000</td>\n",
              "      <td>4.720000</td>\n",
              "      <td>2.910000</td>\n",
              "    </tr>\n",
              "    <tr>\n",
              "      <th>50%</th>\n",
              "      <td>26970.500000</td>\n",
              "      <td>0.700000</td>\n",
              "      <td>NaN</td>\n",
              "      <td>NaN</td>\n",
              "      <td>NaN</td>\n",
              "      <td>61.800000</td>\n",
              "      <td>57.000000</td>\n",
              "      <td>2401.000000</td>\n",
              "      <td>5.700000</td>\n",
              "      <td>5.710000</td>\n",
              "      <td>3.530000</td>\n",
              "    </tr>\n",
              "    <tr>\n",
              "      <th>75%</th>\n",
              "      <td>40455.250000</td>\n",
              "      <td>1.040000</td>\n",
              "      <td>NaN</td>\n",
              "      <td>NaN</td>\n",
              "      <td>NaN</td>\n",
              "      <td>62.500000</td>\n",
              "      <td>59.000000</td>\n",
              "      <td>5324.250000</td>\n",
              "      <td>6.540000</td>\n",
              "      <td>6.540000</td>\n",
              "      <td>4.040000</td>\n",
              "    </tr>\n",
              "    <tr>\n",
              "      <th>max</th>\n",
              "      <td>53940.000000</td>\n",
              "      <td>5.010000</td>\n",
              "      <td>NaN</td>\n",
              "      <td>NaN</td>\n",
              "      <td>NaN</td>\n",
              "      <td>79.000000</td>\n",
              "      <td>95.000000</td>\n",
              "      <td>18823.000000</td>\n",
              "      <td>10.740000</td>\n",
              "      <td>58.900000</td>\n",
              "      <td>31.800000</td>\n",
              "    </tr>\n",
              "  </tbody>\n",
              "</table>\n",
              "</div>"
            ],
            "text/plain": [
              "          Unnamed: 0         carat    cut  color clarity         depth  \\\n",
              "count   53940.000000  53940.000000  53940  53940   53940  53940.000000   \n",
              "unique           NaN           NaN      5      7       8           NaN   \n",
              "top              NaN           NaN  Ideal      G     SI1           NaN   \n",
              "freq             NaN           NaN  21551  11292   13065           NaN   \n",
              "mean    26970.500000      0.797940    NaN    NaN     NaN     61.749405   \n",
              "std     15571.281097      0.474011    NaN    NaN     NaN      1.432621   \n",
              "min         1.000000      0.200000    NaN    NaN     NaN     43.000000   \n",
              "25%     13485.750000      0.400000    NaN    NaN     NaN     61.000000   \n",
              "50%     26970.500000      0.700000    NaN    NaN     NaN     61.800000   \n",
              "75%     40455.250000      1.040000    NaN    NaN     NaN     62.500000   \n",
              "max     53940.000000      5.010000    NaN    NaN     NaN     79.000000   \n",
              "\n",
              "               table         price             x             y             z  \n",
              "count   53940.000000  53940.000000  53940.000000  53940.000000  53940.000000  \n",
              "unique           NaN           NaN           NaN           NaN           NaN  \n",
              "top              NaN           NaN           NaN           NaN           NaN  \n",
              "freq             NaN           NaN           NaN           NaN           NaN  \n",
              "mean       57.457184   3932.799722      5.731157      5.734526      3.538734  \n",
              "std         2.234491   3989.439738      1.121761      1.142135      0.705699  \n",
              "min        43.000000    326.000000      0.000000      0.000000      0.000000  \n",
              "25%        56.000000    950.000000      4.710000      4.720000      2.910000  \n",
              "50%        57.000000   2401.000000      5.700000      5.710000      3.530000  \n",
              "75%        59.000000   5324.250000      6.540000      6.540000      4.040000  \n",
              "max        95.000000  18823.000000     10.740000     58.900000     31.800000  "
            ]
          },
          "execution_count": 9,
          "metadata": {},
          "output_type": "execute_result"
        }
      ],
      "source": [
        "# Looking at DESCRIBE in data\n",
        "diamonds.describe(include='all')"
      ]
    },
    {
      "cell_type": "code",
      "execution_count": 10,
      "metadata": {
        "colab": {
          "base_uri": "https://localhost:8080/",
          "height": 429
        },
        "id": "pIDaSt7SDaQA",
        "outputId": "e2eee128-ddcd-43ab-b083-0c3c6adec31a"
      },
      "outputs": [
        {
          "data": {
            "text/plain": [
              "Unnamed: 0    53940\n",
              "carat           273\n",
              "cut               5\n",
              "color             7\n",
              "clarity           8\n",
              "depth           184\n",
              "table           127\n",
              "price         11602\n",
              "x               554\n",
              "y               552\n",
              "z               375\n",
              "dtype: int64"
            ]
          },
          "execution_count": 10,
          "metadata": {},
          "output_type": "execute_result"
        }
      ],
      "source": [
        "# Looking at unique in data\n",
        "diamonds.nunique()"
      ]
    },
    {
      "cell_type": "code",
      "execution_count": 11,
      "metadata": {
        "id": "6bInrervEDtu"
      },
      "outputs": [],
      "source": [
        "# Plotting multiple bar charts at once for categorical variables\n",
        "# Since there is no default function which can plot bar charts for multiple columns at once\n",
        "# we are defining our own function for the same\n",
        "\n",
        "def PlotBarCharts(inpData, colsToPlot):\n",
        "    %matplotlib inline\n",
        "\n",
        "    import matplotlib.pyplot as plt\n",
        "\n",
        "    # Generating multiple subplots\n",
        "    fig, subPlot=plt.subplots(nrows=1, ncols=len(colsToPlot), figsize=(20,5))\n",
        "    fig.suptitle('Bar charts of: '+ str(colsToPlot))\n",
        "\n",
        "    for colName, plotNumber in zip(colsToPlot, range(len(colsToPlot))):\n",
        "        inpData.groupby(colName).size().plot(kind='bar',ax=subPlot[plotNumber])"
      ]
    },
    {
      "cell_type": "markdown",
      "metadata": {
        "id": "3uCZWpDgrbvy"
      },
      "source": [
        "## **Step 7: Removing Unwanted columns**\n",
        "There are no qualitative columns in the data.\n",
        "\n",
        "Hence no need to remove any column."
      ]
    },
    {
      "cell_type": "markdown",
      "metadata": {
        "id": "HhdVvtEysS80"
      },
      "source": [
        "## **Step 8: Visual Exploratory Data Analysis**\n",
        "\n"
      ]
    },
    {
      "cell_type": "code",
      "execution_count": 12,
      "metadata": {
        "colab": {
          "base_uri": "https://localhost:8080/",
          "height": 394
        },
        "id": "Z5FW0fvbvFdl",
        "outputId": "92bea408-675d-4671-ccaa-206259fed5d3"
      },
      "outputs": [
        {
          "data": {
            "image/png": "[encoded data removed]",
            "text/plain": [
              "<Figure size 2000x500 with 3 Axes>"
            ]
          },
          "metadata": {},
          "output_type": "display_data"
        }
      ],
      "source": [
        "def PlotBarCharts(inpData, colsToPlot):\n",
        "  %matplotlib inline\n",
        "  import matplotlib.pyplot as plt\n",
        "  # Generating multiple subplots\n",
        "  fig, subPlot=plt.subplots(nrows=1, ncols=len(colsToPlot), figsize=(20,5))\n",
        "  fig.suptitle('Bar charts of: '+ str(colsToPlot))\n",
        "  for colName, plotNumber in zip(colsToPlot, range(len(colsToPlot))):\n",
        "    inpData.groupby(colName).size().plot(kind='bar',ax=subPlot[plotNumber])\n",
        "#####################################################################\n",
        "# Calling the function PlotBarCharts() we have created\n",
        "PlotBarCharts(inpData=diamonds, colsToPlot=['cut','color','clarity'])\n"
      ]
    },
    {
      "cell_type": "markdown",
      "metadata": {
        "id": "9lOm1TuJwSFO"
      },
      "source": [
        "Observations from Step 8 - Visual Exploratory Data Analysis (Left for now)\n",
        "\n",
        "Bar Charts have allowed interpretation on the two data columns\n",
        "\n",
        "The bar charts represent the frequencies of each category in the Y-axis and the category names in the X-axis.\n",
        "\n",
        "In the ideal bar chart each category has comparable frequency.\n",
        "\n",
        "Hence, there are enough rows for each category in the data for the ML/AI regression algorithm to learn.\n",
        "\n",
        "If there is a column which shows too skewed distribution where there is only one dominant bar and the other categories are present in very low numbers.\n",
        "\n",
        "These kind of columns may not be very helpful in machine learning model development.\n",
        "\n",
        "We can confirm this with the correlation analysis step coming up, and take a final call to select or reject the column/data attribute.\n",
        "\n",
        "In this dataset, it is worth noting that \"CHAS\" is skewed.\n",
        " There is just one bar which is dominating and other one have very less rows.\n",
        "\n",
        "Such columns may not be correlated with the target variable because there is no information to learn.\n",
        "\n",
        "The algorithms cannot find any rule like when the value is this then the target variable is that."
      ]
    },
    {
      "cell_type": "markdown",
      "metadata": {
        "id": "eBZya-06wouA"
      },
      "source": [
        "## **Step 9: Now Visualize distribution of all the Continuous Predictor variables in the data using histograms**\n",
        "\n",
        "Based on the Basic Exploratory Data Analysis, there are seven continuous predictor variables \"carat\", \"depth\", \"table\", \"price\", \"x\", \"y\",\"z\"."
      ]
    },
    {
      "cell_type": "code",
      "execution_count": 13,
      "metadata": {
        "colab": {
          "base_uri": "https://localhost:8080/",
          "height": 748
        },
        "id": "1CoRpO2JJKnv",
        "outputId": "141c955d-edf1-470a-9efc-f5b969017332"
      },
      "outputs": [
        {
          "data": {
            "text/plain": [
              "array([[<Axes: title={'center': 'carat'}>,\n",
              "        <Axes: title={'center': 'depth'}>,\n",
              "        <Axes: title={'center': 'table'}>],\n",
              "       [<Axes: title={'center': 'price'}>, <Axes: title={'center': 'x'}>,\n",
              "        <Axes: title={'center': 'y'}>],\n",
              "       [<Axes: title={'center': 'z'}>, <Axes: >, <Axes: >]], dtype=object)"
            ]
          },
          "execution_count": 13,
          "metadata": {},
          "output_type": "execute_result"
        },
        {
          "data": {
            "image/png": "[encoded data removed]",
            "text/plain": [
              "<Figure size 1800x1000 with 9 Axes>"
            ]
          },
          "metadata": {},
          "output_type": "display_data"
        }
      ],
      "source": [
        "# Plotting histograms of multiple columns together\n",
        "diamonds.hist(['carat','depth','table','price','x','y','z'], figsize=(18,10))"
      ]
    },
    {
      "cell_type": "markdown",
      "metadata": {
        "id": "rfYJGAY5J0A7"
      },
      "source": [
        "Observations from Step 9\n",
        "Histogram Interpretation\n",
        "\n",
        "Each histograms shows us the data distribution for a single continuous variable.\n",
        "\n",
        "The X-axis shows the range of values and Y-axis represent the number of values in that range.\n",
        "\n",
        "For example, in the histogram of open, there are over 40 days that gold price reach in closet to $160.00\n",
        "\n",
        "Selected Continuous Variables:\n",
        "\n",
        "carat : Selected. The distribution is good\n",
        "\n",
        "table : Selected. The distribution is good.\n",
        "\n",
        "price : Selected. The distribution is good.\n",
        "\n",
        "x     : Selected. The distrubution is good.\n",
        "\n",
        "y     : Selected. The distrubution is good.\n",
        "\n",
        "z     : Selected. The distrubution is good.\n",
        "\n",
        "depth : Selected. The outliner for 80 are quite low. They needed to be treated as such.\n"
      ]
    },
    {
      "cell_type": "markdown",
      "metadata": {
        "id": "VJ06ncpExzdI"
      },
      "source": [
        "## **Step 10: Outlier Analysis**\n",
        "Outliers are extreme values in the data which are far away from most of the values.\n",
        "\n",
        "You can see them as the tails in the histogram.\n",
        "\n",
        "Outlier must be treated one column/data attribute at a time.\n",
        "\n",
        "As the treatment will be slightly different for each column\n",
        "\n",
        "Why I should analyse the outliers?\n",
        "\n",
        "Outliers bias the building of machine learning models.\n",
        "\n",
        "As the algorithm tries to fit the extreme value, it goes away from majority of the data.\n",
        "\n",
        "Outlined below are two options to treat outliers in the data.\n",
        "\n",
        "Option-1: Delete the outlier Records. Only if there are just few rows lost.\n",
        "\n",
        "Option-2: Impute the outlier values with a logical business value\n",
        "\n",
        "Let us find out out the most logical value to be replaced in place of outliers by looking at the histogram."
      ]
    },
    {
      "cell_type": "code",
      "execution_count": 14,
      "metadata": {
        "colab": {
          "base_uri": "https://localhost:8080/",
          "height": 458
        },
        "id": "0sIqWsOUJ7UM",
        "outputId": "f93d0b17-ffe7-48b6-bb3c-a0db2ee193a0"
      },
      "outputs": [
        {
          "data": {
            "text/plain": [
              "52861    79.0\n",
              "52860    79.0\n",
              "41918    78.2\n",
              "46679    73.6\n",
              "53540    72.9\n",
              "         ... \n",
              "36503    51.0\n",
              "16857    50.8\n",
              "6341     44.0\n",
              "10377    43.0\n",
              "4518     43.0\n",
              "Name: depth, Length: 53940, dtype: float64"
            ]
          },
          "execution_count": 14,
          "metadata": {},
          "output_type": "execute_result"
        }
      ],
      "source": [
        "#Replacing outliers for 'depth'\n",
        "# Finding nearest values to 70 mark\n",
        "diamonds['depth'][diamonds['depth']<80].sort_values(ascending=False)"
      ]
    },
    {
      "cell_type": "markdown",
      "metadata": {
        "id": "9m09o7lZRtQ8"
      },
      "source": [
        "Observation: Above result shows the nearest logical value is 79.0, hence, replacing any value above 80 with it."
      ]
    },
    {
      "cell_type": "code",
      "execution_count": 15,
      "metadata": {
        "colab": {
          "base_uri": "https://localhost:8080/"
        },
        "id": "uG8Vme3IRTAf",
        "outputId": "7a356b71-e855-4f46-f062-7a632443027f"
      },
      "outputs": [
        {
          "name": "stderr",
          "output_type": "stream",
          "text": [
            "C:\\Users\\Baoryan\\AppData\\Local\\Temp\\ipykernel_35644\\3645111844.py:2: FutureWarning: ChainedAssignmentError: behaviour will change in pandas 3.0!\n",
            "You are setting values through chained assignment. Currently this works in certain cases, but when using Copy-on-Write (which will become the default behaviour in pandas 3.0) this will never work to update the original DataFrame or Series, because the intermediate object on which we are setting values will behave as a copy.\n",
            "A typical example is when you are setting values in a column of a DataFrame, like:\n",
            "\n",
            "df[\"col\"][row_indexer] = value\n",
            "\n",
            "Use `df.loc[row_indexer, \"col\"] = values` instead, to perform the assignment in a single step and ensure this keeps updating the original `df`.\n",
            "\n",
            "See the caveats in the documentation: https://pandas.pydata.org/pandas-docs/stable/user_guide/indexing.html#returning-a-view-versus-a-copy\n",
            "\n",
            "  diamonds['depth'][diamonds['depth']>80] = 79\n",
            "C:\\Users\\Baoryan\\AppData\\Local\\Temp\\ipykernel_35644\\3645111844.py:2: SettingWithCopyWarning: \n",
            "A value is trying to be set on a copy of a slice from a DataFrame\n",
            "\n",
            "See the caveats in the documentation: https://pandas.pydata.org/pandas-docs/stable/user_guide/indexing.html#returning-a-view-versus-a-copy\n",
            "  diamonds['depth'][diamonds['depth']>80] = 79\n"
          ]
        }
      ],
      "source": [
        "# Replacing outliers with nearest possibe value\n",
        "diamonds['depth'][diamonds['depth']>80] = 79"
      ]
    },
    {
      "cell_type": "markdown",
      "metadata": {
        "id": "0YOy6wLnephK"
      },
      "source": [
        "Step 11:Visualising Data Distribution after outlier removal\n"
      ]
    },
    {
      "cell_type": "code",
      "execution_count": 16,
      "metadata": {
        "colab": {
          "base_uri": "https://localhost:8080/",
          "height": 372
        },
        "id": "KBTrJAcreXx8",
        "outputId": "65648fdf-8a5c-41a5-d4af-8ec303247065"
      },
      "outputs": [
        {
          "data": {
            "text/plain": [
              "array([[<Axes: title={'center': 'depth'}>]], dtype=object)"
            ]
          },
          "execution_count": 16,
          "metadata": {},
          "output_type": "execute_result"
        },
        {
          "data": {
            "image/png": "[encoded data removed]",
            "text/plain": [
              "<Figure size 1800x500 with 1 Axes>"
            ]
          },
          "metadata": {},
          "output_type": "display_data"
        }
      ],
      "source": [
        "diamonds.hist(['depth'], figsize=(18,5))"
      ]
    },
    {
      "cell_type": "markdown",
      "metadata": {
        "id": "C45gK_YBfASl"
      },
      "source": [
        "## **Step 12: Missing Values Analysis**\n",
        "\n",
        "Missing values are treated for each column separately.\n",
        "\n",
        "If a column has more than 30% data missing, then missing value treatment cannot be done.\n",
        "\n",
        "That column must be rejected because too much information is missing.\n",
        "\n",
        "Outlined below are some options for treating missing values in data.\n",
        "\n",
        "Delete the missing value rows if there are only few records\n",
        "\n",
        "Impute the missing values with MEDIAN value for continuous variables\n",
        "\n",
        "Impute the missing values with MODE value for categorical variables\n",
        "\n",
        "Interpolate the values based on nearby values\n",
        "\n",
        "Interpolate the values based on business logic"
      ]
    },
    {
      "cell_type": "code",
      "execution_count": 17,
      "metadata": {
        "colab": {
          "base_uri": "https://localhost:8080/",
          "height": 429
        },
        "id": "EheZDTMHe0p-",
        "outputId": "e9274893-0e16-4742-bdc2-916ab08533bb"
      },
      "outputs": [
        {
          "data": {
            "text/plain": [
              "Unnamed: 0    0\n",
              "carat         0\n",
              "cut           0\n",
              "color         0\n",
              "clarity       0\n",
              "depth         0\n",
              "table         0\n",
              "price         0\n",
              "x             0\n",
              "y             0\n",
              "z             0\n",
              "dtype: int64"
            ]
          },
          "execution_count": 17,
          "metadata": {},
          "output_type": "execute_result"
        }
      ],
      "source": [
        "# Finding how many missing values are there for each column\n",
        "diamonds.isnull().sum()"
      ]
    },
    {
      "cell_type": "markdown",
      "metadata": {
        "id": "thZlbGUpz75_"
      },
      "source": [
        "## **Observations from Step 12: Missing Value Analysis**\n",
        "\n",
        "No missing values in data\n",
        "\n",
        "So no removal is required"
      ]
    },
    {
      "cell_type": "markdown",
      "metadata": {
        "id": "gC3Ny0H-fXbV"
      },
      "source": [
        "### **Step 13: Feature Selection (Attribute Selection)**"
      ]
    },
    {
      "cell_type": "code",
      "execution_count": 18,
      "metadata": {
        "colab": {
          "base_uri": "https://localhost:8080/",
          "height": 1000
        },
        "id": "PlsvzJG6faJL",
        "outputId": "e71995a2-1315-4618-b3ec-98ecc0d1d1cc"
      },
      "outputs": [
        {
          "data": {
            "image/png": "[encoded data removed]",
            "text/plain": [
              "<Figure size 1000x500 with 1 Axes>"
            ]
          },
          "metadata": {},
          "output_type": "display_data"
        },
        {
          "data": {
            "image/png": "[encoded data removed]",
            "text/plain": [
              "<Figure size 1000x500 with 1 Axes>"
            ]
          },
          "metadata": {},
          "output_type": "display_data"
        },
        {
          "data": {
            "image/png": "[encoded data removed]",
            "text/plain": [
              "<Figure size 1000x500 with 1 Axes>"
            ]
          },
          "metadata": {},
          "output_type": "display_data"
        },
        {
          "data": {
            "image/png": "[encoded data removed]",
            "text/plain": [
              "<Figure size 1000x500 with 1 Axes>"
            ]
          },
          "metadata": {},
          "output_type": "display_data"
        },
        {
          "data": {
            "image/png": "[encoded data removed]",
            "text/plain": [
              "<Figure size 1000x500 with 1 Axes>"
            ]
          },
          "metadata": {},
          "output_type": "display_data"
        },
        {
          "data": {
            "image/png": "[encoded data removed]",
            "text/plain": [
              "<Figure size 1000x500 with 1 Axes>"
            ]
          },
          "metadata": {},
          "output_type": "display_data"
        }
      ],
      "source": [
        "ContinuousCols=['carat','depth', 'table','x','y','z']\n",
        "\n",
        "# Plotting scatter chart for each predictor vs the target variable\n",
        "for predictor in ContinuousCols:\n",
        "    diamonds.plot.scatter(x=predictor, y='price', figsize=(10,5), title=\"price\" + \" affected by \"+predictor)"
      ]
    },
    {
      "cell_type": "markdown",
      "metadata": {
        "id": "SF8-diUIReo4"
      },
      "source": [
        "## Scatter charts interpretation\n",
        "* What should you look for in these scatter charts?\n",
        "\n",
        "* **Trend.** You should try to see if there is a visible trend or not. There could be three scenarios\n",
        "\n",
        "* **!!Increasing Trend!!**: This means both variables are positively correlated. In simpler terms, they are directly proportional to each other, if one value increases, other also increases. This is good for ML model building!\n",
        "\n",
        "* **Decreasing Trend:** This means both variables are negatively correlated. In simpler terms, they are inversely proportional to each other, if one value increases, other decreases. This is also good for ML model building!\n",
        "\n",
        "* **No Trend**: You cannot see any clear increasing or decreasing trend. This means there is no correlation between the variables. Hence that predictor/feature may not be the best one for ML model building.\n",
        "\n",
        "* Based on this chart we can get a good idea about the predictor, if it will be useful or not. You confirm this by looking at the correlation value in the next step."
      ]
    },
    {
      "cell_type": "markdown",
      "metadata": {
        "id": "JVzcoZ-lRvw-"
      },
      "source": [
        "## Step 14: Statistical Feature Selection (Continuous Vs Continuous) using Correlation value\n",
        "\n",
        "* Pearson's correlation coefficient is a powerful metric for doing this.\n",
        "* It can simply be calculated as the covariance between two features  x and  y\n",
        "  (numerator) divided by the product of their standard deviations (denominator):\n",
        "\n",
        "![image.png](data:image/png;base64,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)\n",
        "\n",
        "* This value can be calculated only between two numeric columns\n",
        "Correlation between [-1,0) means inversely proportional, the scatter plot will show a downward trend\n",
        "* Correlation between (0,1] means directly proportional, the scatter plot will show a upward trend\n",
        "* Correlation near {0} means No relationship, the scatter plot will show no clear trend.\n",
        "* If Correlation value between two variables is > 0.5 in magnitude, it indicates good relationship the sign does not matter\n",
        "* We observe the correlations between Target variable and all other predictor variables(s) to check which columns/features/predictors are actually related to the target variable in question."
      ]
    },
    {
      "cell_type": "code",
      "execution_count": 19,
      "metadata": {
        "colab": {
          "base_uri": "https://localhost:8080/",
          "height": 269
        },
        "id": "S1ezjkh0R4Pl",
        "outputId": "5638d219-1f84-4af1-ea38-e52b49e72f01"
      },
      "outputs": [
        {
          "data": {
            "text/html": [
              "<div>\n",
              "<style scoped>\n",
              "    .dataframe tbody tr th:only-of-type {\n",
              "        vertical-align: middle;\n",
              "    }\n",
              "\n",
              "    .dataframe tbody tr th {\n",
              "        vertical-align: top;\n",
              "    }\n",
              "\n",
              "    .dataframe thead th {\n",
              "        text-align: right;\n",
              "    }\n",
              "</style>\n",
              "<table border=\"1\" class=\"dataframe\">\n",
              "  <thead>\n",
              "    <tr style=\"text-align: right;\">\n",
              "      <th></th>\n",
              "      <th>carat</th>\n",
              "      <th>depth</th>\n",
              "      <th>table</th>\n",
              "      <th>x</th>\n",
              "      <th>y</th>\n",
              "      <th>z</th>\n",
              "      <th>price</th>\n",
              "    </tr>\n",
              "  </thead>\n",
              "  <tbody>\n",
              "    <tr>\n",
              "      <th>carat</th>\n",
              "      <td>1.000000</td>\n",
              "      <td>0.028224</td>\n",
              "      <td>0.181618</td>\n",
              "      <td>0.975094</td>\n",
              "      <td>0.951722</td>\n",
              "      <td>0.953387</td>\n",
              "      <td>0.921591</td>\n",
              "    </tr>\n",
              "    <tr>\n",
              "      <th>depth</th>\n",
              "      <td>0.028224</td>\n",
              "      <td>1.000000</td>\n",
              "      <td>-0.295779</td>\n",
              "      <td>-0.025289</td>\n",
              "      <td>-0.029341</td>\n",
              "      <td>0.094924</td>\n",
              "      <td>-0.010647</td>\n",
              "    </tr>\n",
              "    <tr>\n",
              "      <th>table</th>\n",
              "      <td>0.181618</td>\n",
              "      <td>-0.295779</td>\n",
              "      <td>1.000000</td>\n",
              "      <td>0.195344</td>\n",
              "      <td>0.183760</td>\n",
              "      <td>0.150929</td>\n",
              "      <td>0.127134</td>\n",
              "    </tr>\n",
              "    <tr>\n",
              "      <th>x</th>\n",
              "      <td>0.975094</td>\n",
              "      <td>-0.025289</td>\n",
              "      <td>0.195344</td>\n",
              "      <td>1.000000</td>\n",
              "      <td>0.974701</td>\n",
              "      <td>0.970772</td>\n",
              "      <td>0.884435</td>\n",
              "    </tr>\n",
              "    <tr>\n",
              "      <th>y</th>\n",
              "      <td>0.951722</td>\n",
              "      <td>-0.029341</td>\n",
              "      <td>0.183760</td>\n",
              "      <td>0.974701</td>\n",
              "      <td>1.000000</td>\n",
              "      <td>0.952006</td>\n",
              "      <td>0.865421</td>\n",
              "    </tr>\n",
              "    <tr>\n",
              "      <th>z</th>\n",
              "      <td>0.953387</td>\n",
              "      <td>0.094924</td>\n",
              "      <td>0.150929</td>\n",
              "      <td>0.970772</td>\n",
              "      <td>0.952006</td>\n",
              "      <td>1.000000</td>\n",
              "      <td>0.861249</td>\n",
              "    </tr>\n",
              "    <tr>\n",
              "      <th>price</th>\n",
              "      <td>0.921591</td>\n",
              "      <td>-0.010647</td>\n",
              "      <td>0.127134</td>\n",
              "      <td>0.884435</td>\n",
              "      <td>0.865421</td>\n",
              "      <td>0.861249</td>\n",
              "      <td>1.000000</td>\n",
              "    </tr>\n",
              "  </tbody>\n",
              "</table>\n",
              "</div>"
            ],
            "text/plain": [
              "          carat     depth     table         x         y         z     price\n",
              "carat  1.000000  0.028224  0.181618  0.975094  0.951722  0.953387  0.921591\n",
              "depth  0.028224  1.000000 -0.295779 -0.025289 -0.029341  0.094924 -0.010647\n",
              "table  0.181618 -0.295779  1.000000  0.195344  0.183760  0.150929  0.127134\n",
              "x      0.975094 -0.025289  0.195344  1.000000  0.974701  0.970772  0.884435\n",
              "y      0.951722 -0.029341  0.183760  0.974701  1.000000  0.952006  0.865421\n",
              "z      0.953387  0.094924  0.150929  0.970772  0.952006  1.000000  0.861249\n",
              "price  0.921591 -0.010647  0.127134  0.884435  0.865421  0.861249  1.000000"
            ]
          },
          "execution_count": 19,
          "metadata": {},
          "output_type": "execute_result"
        }
      ],
      "source": [
        "# Calculating correlation matrix\n",
        "ContinuousCols=['carat','depth', 'table','x','y','z','price']\n",
        "\n",
        "# Creating the correlation matrix\n",
        "CorrelationData=diamonds[ContinuousCols].corr()\n",
        "CorrelationData"
      ]
    },
    {
      "cell_type": "code",
      "execution_count": 20,
      "metadata": {
        "colab": {
          "base_uri": "https://localhost:8080/",
          "height": 241
        },
        "id": "uh2cGi6FSHCS",
        "outputId": "1112eb84-224d-4b0d-ce69-678742ddbb6d"
      },
      "outputs": [
        {
          "data": {
            "text/plain": [
              "carat    0.921591\n",
              "x        0.884435\n",
              "y        0.865421\n",
              "z        0.861249\n",
              "price    1.000000\n",
              "Name: price, dtype: float64"
            ]
          },
          "execution_count": 20,
          "metadata": {},
          "output_type": "execute_result"
        }
      ],
      "source": [
        "# Filtering only those columns where absolute correlation > 0.5 with Target Variable\n",
        "# reduce the 0.5 threshold if no variable is selected\n",
        "CorrelationData['price'][abs(CorrelationData['price']) > 0.5 ]"
      ]
    },
    {
      "cell_type": "markdown",
      "metadata": {
        "id": "uHmqaR3HUE58"
      },
      "source": [
        "## Observations from Step 14\n",
        "* Final selected Continuous columns:\n",
        "\n",
        "* **'carat','depth', 'table','x','y','z','price'**"
      ]
    },
    {
      "cell_type": "markdown",
      "metadata": {
        "id": "0ceOGYOjVec2"
      },
      "source": [
        "# Step 15:  Relationship exploration: Categorical Vs Continuous -- Box Plots\n",
        "* When the target variable is Continuous and the predictor variable is Categorical we analyze the relation using Boxplots,  and\n",
        "* Measure the strength of relation using Anova test."
      ]
    },
    {
      "cell_type": "code",
      "execution_count": 21,
      "metadata": {
        "colab": {
          "base_uri": "https://localhost:8080/",
          "height": 365
        },
        "id": "RDE8ggaMVqCn",
        "outputId": "39019440-766e-4142-9a72-c9cd2bcc26ae"
      },
      "outputs": [
        {
          "data": {
            "image/png": "[encoded data removed]",
            "text/plain": [
              "<Figure size 1800x500 with 3 Axes>"
            ]
          },
          "metadata": {},
          "output_type": "display_data"
        }
      ],
      "source": [
        "# Box plots for continuous Target Variable \"MEDV\" and Categorical predictors\n",
        "CategoricalColsList=['cut', 'color','clarity']\n",
        "\n",
        "import matplotlib.pyplot as plt\n",
        "fig, PlotCanvas=plt.subplots(nrows=1, ncols=len(CategoricalColsList), figsize=(18,5))\n",
        "\n",
        "# Creating box plots for each continuous predictor against the Target Variable \"MEDV\"\n",
        "for PredictorCol , i in zip(CategoricalColsList, range(len(CategoricalColsList))):\n",
        "    diamonds.boxplot(column='price', by=PredictorCol, figsize=(5,5), vert=True, ax=PlotCanvas[i])"
      ]
    },
    {
      "cell_type": "markdown",
      "metadata": {
        "id": "i28CplzBV9Xb"
      },
      "source": [
        "##Observations from Step 15: Box-Plots interpretation\n",
        "\n",
        "* What should you look for in these box plots?\n",
        "\n",
        "* These plots gives an idea about the data distribution of continuous predictor in the Y-axis for each of the category in the X-Axis.\n",
        "\n",
        "* If the distribution looks similar for each category(Boxes are in the same line), that means the the continuous variable has NO effect on the target variable. Hence, the variables are not correlated to each other.\n",
        "\n",
        "* On the other hand if the distribution is different for each category(the boxes are not in same line!). It hints that these variables might be correlated with price.\n",
        "\n",
        "* For this datadata, both the categorical predictors looks correlated with the Target variable.\n",
        "\n",
        "We confirm this by looking at the results of ANOVA test below"
      ]
    },
    {
      "cell_type": "markdown",
      "metadata": {
        "id": "wSp0Ur4iWKHU"
      },
      "source": [
        "## Step 16: Statistical Feature Selection (Categorical Vs Continuous) using ANOVA test\n",
        "\n",
        "* Analysis of variance(ANOVA) is performed to check if there is any relationship between the given continuous and categorical variable\n",
        "\n",
        "* Assumption(H0) Null Hypothesis: There is NO relation between the given variables (i.e.\n",
        "* The average(mean) values of the numeric Target variable is same for all the groups in the categorical Predictor variable)\n",
        "* ANOVA Test result: Probability of H0 (Null Hypothesis being true"
      ]
    },
    {
      "cell_type": "code",
      "execution_count": 22,
      "metadata": {
        "id": "_uZXCbr1WNke"
      },
      "outputs": [],
      "source": [
        "# Defining a function to find the statistical relationship with all the categorical variables\n",
        "def FunctionAnova(inpData, TargetVariable, CategoricalPredictorList):\n",
        "    from scipy.stats import f_oneway\n",
        "\n",
        "    # Creating an empty list of final selected predictors\n",
        "    SelectedPredictors=[]\n",
        "\n",
        "    print('##### ANOVA Results ##### \\n')\n",
        "    for predictor in CategoricalPredictorList:\n",
        "        CategoryGroupLists=inpData.groupby(predictor)[TargetVariable].apply(list)\n",
        "        AnovaResults = f_oneway(*CategoryGroupLists)\n",
        "\n",
        "        # If the ANOVA P-Value is <0.05, that means we reject H0\n",
        "        if (AnovaResults[1] < 0.05):\n",
        "            print(predictor, 'is correlated with', TargetVariable, '| P-Value:', AnovaResults[1])\n",
        "            SelectedPredictors.append(predictor)\n",
        "        else:\n",
        "            print(predictor, 'is NOT correlated with', TargetVariable, '| P-Value:', AnovaResults[1])\n",
        "\n",
        "    return(SelectedPredictors)"
      ]
    },
    {
      "cell_type": "code",
      "execution_count": 23,
      "metadata": {
        "colab": {
          "base_uri": "https://localhost:8080/"
        },
        "id": "IILVDhJ4WTRK",
        "outputId": "0f734c8b-b8ff-415a-e7e6-9d22fed11e3d"
      },
      "outputs": [
        {
          "name": "stdout",
          "output_type": "stream",
          "text": [
            "##### ANOVA Results ##### \n",
            "\n",
            "cut is correlated with price | P-Value: 8.42830730759452e-150\n",
            "color is correlated with price | P-Value: 0.0\n",
            "clarity is correlated with price | P-Value: 1.9190895e-316\n"
          ]
        },
        {
          "data": {
            "text/plain": [
              "['cut', 'color', 'clarity']"
            ]
          },
          "execution_count": 23,
          "metadata": {},
          "output_type": "execute_result"
        }
      ],
      "source": [
        "#Calling the function to check which categorical variables are correlated with target\n",
        "CategoricalPredictorList=['cut', 'color','clarity']\n",
        "FunctionAnova(inpData=diamonds,\n",
        "              TargetVariable='price',\n",
        "              CategoricalPredictorList=CategoricalPredictorList)"
      ]
    },
    {
      "cell_type": "markdown",
      "metadata": {
        "id": "BGnx2LnNXBxo"
      },
      "source": [
        "##Observations from Step 16\n",
        "* The results of ANOVA confirm our visual analysis using box plots above.\n",
        "\n",
        "* All categorical variables are correlated with the Target variable.\n",
        "* This is something you can guess by looking at the box plots!\n",
        "\n",
        "* Final selected Categorical columns:\n",
        "\n",
        "'cut', 'color', 'clarity'\n"
      ]
    },
    {
      "cell_type": "markdown",
      "metadata": {
        "id": "QJwNpE08XYss"
      },
      "source": [
        "## Selecting final Predictors/Features for building Machine Learning/AI model.\n",
        "* Based on the extensive tests with exploratory data analysis, we can select the final features/predictors/columns for machine learning model building as:\n",
        "* **'carat','depth', 'table','x','y','z','cut','color','clarity'**\n"
      ]
    },
    {
      "cell_type": "code",
      "execution_count": 24,
      "metadata": {
        "colab": {
          "base_uri": "https://localhost:8080/",
          "height": 206
        },
        "id": "GW3CEf4JZY9o",
        "outputId": "da945e52-e40e-4242-e76b-881a939112c4"
      },
      "outputs": [
        {
          "data": {
            "text/html": [
              "<div>\n",
              "<style scoped>\n",
              "    .dataframe tbody tr th:only-of-type {\n",
              "        vertical-align: middle;\n",
              "    }\n",
              "\n",
              "    .dataframe tbody tr th {\n",
              "        vertical-align: top;\n",
              "    }\n",
              "\n",
              "    .dataframe thead th {\n",
              "        text-align: right;\n",
              "    }\n",
              "</style>\n",
              "<table border=\"1\" class=\"dataframe\">\n",
              "  <thead>\n",
              "    <tr style=\"text-align: right;\">\n",
              "      <th></th>\n",
              "      <th>carat</th>\n",
              "      <th>depth</th>\n",
              "      <th>table</th>\n",
              "      <th>x</th>\n",
              "      <th>y</th>\n",
              "      <th>z</th>\n",
              "    </tr>\n",
              "  </thead>\n",
              "  <tbody>\n",
              "    <tr>\n",
              "      <th>0</th>\n",
              "      <td>0.23</td>\n",
              "      <td>61.5</td>\n",
              "      <td>55.0</td>\n",
              "      <td>3.95</td>\n",
              "      <td>3.98</td>\n",
              "      <td>2.43</td>\n",
              "    </tr>\n",
              "    <tr>\n",
              "      <th>1</th>\n",
              "      <td>0.21</td>\n",
              "      <td>59.8</td>\n",
              "      <td>61.0</td>\n",
              "      <td>3.89</td>\n",
              "      <td>3.84</td>\n",
              "      <td>2.31</td>\n",
              "    </tr>\n",
              "    <tr>\n",
              "      <th>2</th>\n",
              "      <td>0.23</td>\n",
              "      <td>56.9</td>\n",
              "      <td>65.0</td>\n",
              "      <td>4.05</td>\n",
              "      <td>4.07</td>\n",
              "      <td>2.31</td>\n",
              "    </tr>\n",
              "    <tr>\n",
              "      <th>3</th>\n",
              "      <td>0.29</td>\n",
              "      <td>62.4</td>\n",
              "      <td>58.0</td>\n",
              "      <td>4.20</td>\n",
              "      <td>4.23</td>\n",
              "      <td>2.63</td>\n",
              "    </tr>\n",
              "    <tr>\n",
              "      <th>4</th>\n",
              "      <td>0.31</td>\n",
              "      <td>63.3</td>\n",
              "      <td>58.0</td>\n",
              "      <td>4.34</td>\n",
              "      <td>4.35</td>\n",
              "      <td>2.75</td>\n",
              "    </tr>\n",
              "  </tbody>\n",
              "</table>\n",
              "</div>"
            ],
            "text/plain": [
              "   carat  depth  table     x     y     z\n",
              "0   0.23   61.5   55.0  3.95  3.98  2.43\n",
              "1   0.21   59.8   61.0  3.89  3.84  2.31\n",
              "2   0.23   56.9   65.0  4.05  4.07  2.31\n",
              "3   0.29   62.4   58.0  4.20  4.23  2.63\n",
              "4   0.31   63.3   58.0  4.34  4.35  2.75"
            ]
          },
          "execution_count": 24,
          "metadata": {},
          "output_type": "execute_result"
        }
      ],
      "source": [
        "SelectedColumns=['carat','depth', 'table','x','y','z']\n",
        "\n",
        "# Selecting final columns\n",
        "DataForML=diamonds[SelectedColumns]\n",
        "DataForML.head()"
      ]
    },
    {
      "cell_type": "code",
      "execution_count": 25,
      "metadata": {
        "id": "L_qsoqSOZotB"
      },
      "outputs": [],
      "source": [
        "# Saving this final data subset for reference during deployment\n",
        "DataForML.to_pickle('DataForML.pkl')"
      ]
    },
    {
      "cell_type": "markdown",
      "metadata": {
        "id": "GWdJNgTlbGjR"
      },
      "source": [
        "## Step 17: Data Pre-processing for Machine Learning Model Building or Model Development\n",
        "* List of steps that needs to be performed on predictor variables before data can be used for machine learning\n",
        "\n",
        "* Converting each Ordinal Categorical columns to numeric\n",
        "* Converting Binary nominal Categorical columns to numeric using 1/0 mapping\n",
        "* Converting all other nominal categorical columns to numeric using pd.get_dummies()\n",
        "* Data Transformation (Optional): Standardization/Normalization/log/sqrt. Important if you are using distance based algorithms like KNN, or Neural Networks\n",
        "* Converting the ordinal variable to numeric - In this data there is no Ordinal categorical variable.\n",
        "* Converting the binary nominal variable to numeric using 1/0 mapping: There is no binary nominal variable in string format in this data\n"
      ]
    },
    {
      "cell_type": "markdown",
      "metadata": {
        "id": "UklNxkIWbc_I"
      },
      "source": [
        "## Converting the nominal variable to numeric using get_dummies()"
      ]
    },
    {
      "cell_type": "code",
      "execution_count": 26,
      "metadata": {
        "colab": {
          "base_uri": "https://localhost:8080/",
          "height": 206
        },
        "id": "A4RZRXGjb5Jp",
        "outputId": "550cba8d-c54c-45d1-c613-6a33507b99cb"
      },
      "outputs": [
        {
          "data": {
            "text/html": [
              "<div>\n",
              "<style scoped>\n",
              "    .dataframe tbody tr th:only-of-type {\n",
              "        vertical-align: middle;\n",
              "    }\n",
              "\n",
              "    .dataframe tbody tr th {\n",
              "        vertical-align: top;\n",
              "    }\n",
              "\n",
              "    .dataframe thead th {\n",
              "        text-align: right;\n",
              "    }\n",
              "</style>\n",
              "<table border=\"1\" class=\"dataframe\">\n",
              "  <thead>\n",
              "    <tr style=\"text-align: right;\">\n",
              "      <th></th>\n",
              "      <th>carat</th>\n",
              "      <th>depth</th>\n",
              "      <th>table</th>\n",
              "      <th>x</th>\n",
              "      <th>y</th>\n",
              "      <th>z</th>\n",
              "      <th>price</th>\n",
              "    </tr>\n",
              "  </thead>\n",
              "  <tbody>\n",
              "    <tr>\n",
              "      <th>0</th>\n",
              "      <td>0.23</td>\n",
              "      <td>61.5</td>\n",
              "      <td>55.0</td>\n",
              "      <td>3.95</td>\n",
              "      <td>3.98</td>\n",
              "      <td>2.43</td>\n",
              "      <td>326</td>\n",
              "    </tr>\n",
              "    <tr>\n",
              "      <th>1</th>\n",
              "      <td>0.21</td>\n",
              "      <td>59.8</td>\n",
              "      <td>61.0</td>\n",
              "      <td>3.89</td>\n",
              "      <td>3.84</td>\n",
              "      <td>2.31</td>\n",
              "      <td>326</td>\n",
              "    </tr>\n",
              "    <tr>\n",
              "      <th>2</th>\n",
              "      <td>0.23</td>\n",
              "      <td>56.9</td>\n",
              "      <td>65.0</td>\n",
              "      <td>4.05</td>\n",
              "      <td>4.07</td>\n",
              "      <td>2.31</td>\n",
              "      <td>327</td>\n",
              "    </tr>\n",
              "    <tr>\n",
              "      <th>3</th>\n",
              "      <td>0.29</td>\n",
              "      <td>62.4</td>\n",
              "      <td>58.0</td>\n",
              "      <td>4.20</td>\n",
              "      <td>4.23</td>\n",
              "      <td>2.63</td>\n",
              "      <td>334</td>\n",
              "    </tr>\n",
              "    <tr>\n",
              "      <th>4</th>\n",
              "      <td>0.31</td>\n",
              "      <td>63.3</td>\n",
              "      <td>58.0</td>\n",
              "      <td>4.34</td>\n",
              "      <td>4.35</td>\n",
              "      <td>2.75</td>\n",
              "      <td>335</td>\n",
              "    </tr>\n",
              "  </tbody>\n",
              "</table>\n",
              "</div>"
            ],
            "text/plain": [
              "   carat  depth  table     x     y     z  price\n",
              "0   0.23   61.5   55.0  3.95  3.98  2.43    326\n",
              "1   0.21   59.8   61.0  3.89  3.84  2.31    326\n",
              "2   0.23   56.9   65.0  4.05  4.07  2.31    327\n",
              "3   0.29   62.4   58.0  4.20  4.23  2.63    334\n",
              "4   0.31   63.3   58.0  4.34  4.35  2.75    335"
            ]
          },
          "execution_count": 26,
          "metadata": {},
          "output_type": "execute_result"
        }
      ],
      "source": [
        "# Treating all the nominal variables at once using dummy variables\n",
        "DataForML_Numeric=pd.get_dummies(DataForML)\n",
        "\n",
        "# Adding Target Variable to the data\n",
        "DataForML_Numeric['price']=diamonds['price']\n",
        "\n",
        "# Printing sample rows\n",
        "DataForML_Numeric.head()"
      ]
    },
    {
      "cell_type": "markdown",
      "metadata": {
        "id": "APCOmpwGdLV3"
      },
      "source": [
        "## Step 18: Machine Learning Model Development:\n",
        "* Splitting the data into Training and Testing sample\n",
        "* We dont use the full data for creating the model (training data).\n",
        "* Some data is randomly selected and kept aside for checking how good the model is.\n",
        "* This is known as Testing Data and the remaining data is called Training data on which the model is built.\n",
        "* Typically 70% of data is used as Training data and the rest 30% is used as Tesing data.\n"
      ]
    },
    {
      "cell_type": "code",
      "execution_count": 27,
      "metadata": {
        "colab": {
          "base_uri": "https://localhost:8080/"
        },
        "id": "njxm50L7dNtg",
        "outputId": "dee0e490-9b6d-49fa-de34-71f12b3dc413"
      },
      "outputs": [
        {
          "data": {
            "text/plain": [
              "Index(['carat', 'depth', 'table', 'x', 'y', 'z', 'price'], dtype='object')"
            ]
          },
          "execution_count": 27,
          "metadata": {},
          "output_type": "execute_result"
        }
      ],
      "source": [
        "# Printing all the column names for our reference\n",
        "DataForML_Numeric.columns"
      ]
    },
    {
      "cell_type": "code",
      "execution_count": 28,
      "metadata": {
        "id": "KMkLQpQ8dQBI"
      },
      "outputs": [],
      "source": [
        "#Separate Target Variable and Predictor Variables\n",
        "TargetVariable='price'\n",
        "Predictors=['carat','depth', 'table','x','y','z']\n",
        "\n",
        "X=DataForML_Numeric[Predictors].values\n",
        "y=DataForML_Numeric[TargetVariable].values\n",
        "\n",
        "# Split the data into training and testing set\n",
        "from sklearn.model_selection import train_test_split\n",
        "X_train, X_test, y_train, y_test = train_test_split(X, y, test_size=0.3, random_state=428)"
      ]
    },
    {
      "cell_type": "markdown",
      "metadata": {
        "id": "ZaAsKq0ueFBW"
      },
      "source": [
        "## Step 19: Standardization/Normalization of data\n",
        "* You can choose not to run this step if you want to compare the resultant accuracy of this transformation with the accuracy of raw data (Optional Step)\n",
        "\n",
        "* However, if you are using KNN or Neural Networks, then this step becomes necessary."
      ]
    },
    {
      "cell_type": "code",
      "execution_count": 29,
      "metadata": {
        "id": "U7EirPJ0eaKb"
      },
      "outputs": [],
      "source": [
        "### Standardization of data ###\n",
        "from sklearn.preprocessing import StandardScaler, MinMaxScaler\n",
        "# Choose either standardization or Normalization\n",
        "# On this data Min Max Normalization produced better results\n",
        "\n",
        "# Choose between standardization and MinMAx normalization\n",
        "#PredictorScaler=StandardScaler()\n",
        "PredictorScaler=MinMaxScaler()\n",
        "\n",
        "# Storing the fit object for later reference\n",
        "PredictorScalerFit=PredictorScaler.fit(X)\n",
        "\n",
        "# Generating the standardized values of X\n",
        "X=PredictorScalerFit.transform(X)\n",
        "\n",
        "# Split the data into training and testing set\n",
        "from sklearn.model_selection import train_test_split\n",
        "X_train, X_test, y_train, y_test = train_test_split(X, y, test_size=0.3, random_state=42)"
      ]
    },
    {
      "cell_type": "code",
      "execution_count": 30,
      "metadata": {
        "colab": {
          "base_uri": "https://localhost:8080/"
        },
        "id": "SfAZMXc5d15T",
        "outputId": "b39cab4e-b1d0-4907-9e30-b2dfd17c2bd6"
      },
      "outputs": [
        {
          "name": "stdout",
          "output_type": "stream",
          "text": [
            "(37758, 6)\n",
            "(37758,)\n",
            "(16182, 6)\n",
            "(16182,)\n"
          ]
        }
      ],
      "source": [
        "# Sanity check for the sampled data\n",
        "# For checking the X and y shape of train and actual test\n",
        "print(X_train.shape)\n",
        "print(y_train.shape)\n",
        "print(X_test.shape)\n",
        "print(y_test.shape)"
      ]
    },
    {
      "cell_type": "markdown",
      "metadata": {
        "id": "wWxcaw_mey-r"
      },
      "source": [
        "## Step 20: Multiple Linear Regression Algorithm For ML/AI model building\n"
      ]
    },
    {
      "cell_type": "code",
      "execution_count": 31,
      "metadata": {
        "colab": {
          "base_uri": "https://localhost:8080/"
        },
        "id": "QM15fISAe1R1",
        "outputId": "e404d14b-d9a1-4263-85e5-3f21b188a9f3"
      },
      "outputs": [
        {
          "name": "stdout",
          "output_type": "stream",
          "text": [
            "LinearRegression()\n",
            "R2 Value: 0.8590151413333513\n",
            "\n",
            "##### Model Validation and Accuracy Calculations ##########\n",
            "      carat     depth     table         x         y         z  price  \\\n",
            "0  0.008316  0.530556  0.250000  0.369646  0.067912  0.077673    559   \n",
            "1  0.079002  0.472222  0.269231  0.506518  0.092020  0.102516   2201   \n",
            "2  0.041580  0.530556  0.230769  0.443203  0.080475  0.092767   1238   \n",
            "3  0.047817  0.494444  0.269231  0.458101  0.083022  0.093711   1304   \n",
            "4  0.280665  0.536111  0.230769  0.692737  0.125127  0.144969   6901   \n",
            "\n",
            "   Predictedprice  \n",
            "0           192.0  \n",
            "1          2364.0  \n",
            "2          1054.0  \n",
            "3          1232.0  \n",
            "4         10025.0  \n",
            "Mean Accuracy on test data: 71.52678734895264\n",
            "Median Accuracy on test data: 77.97753716871364\n",
            "\n",
            "Accuracy values for 10-fold Cross Validation:\n",
            " [70.84432213 71.29981866 77.52422653 77.2960614  75.85989545 62.48497141\n",
            " 61.99412577 64.28421054 72.78473638 67.90715466]\n",
            "\n",
            "Final Average Accuracy of the model: 70.23\n"
          ]
        }
      ],
      "source": [
        "#Multiple Linear Regression\n",
        "from sklearn.linear_model import LinearRegression\n",
        "RegModel = LinearRegression()\n",
        "\n",
        "# Printing all the parameters of Linear regression\n",
        "print(RegModel)\n",
        "\n",
        "# Creating the model on Training Data\n",
        "LREG=RegModel.fit(X_train,y_train)\n",
        "prediction=LREG.predict(X_test)\n",
        "\n",
        "from sklearn import metrics\n",
        "# Measuring Goodness of fit in Training data\n",
        "print('R2 Value:',metrics.r2_score(y_train, LREG.predict(X_train)))\n",
        "\n",
        "###########################################################################\n",
        "print('\\n##### Model Validation and Accuracy Calculations ##########')\n",
        "\n",
        "# Printing some sample values of prediction\n",
        "TestingDataResults=pd.DataFrame(data=X_test, columns=Predictors)\n",
        "TestingDataResults[TargetVariable]=y_test\n",
        "TestingDataResults[('Predicted'+TargetVariable)]=np.round(prediction)\n",
        "\n",
        "# Printing sample prediction values\n",
        "print(TestingDataResults.head())\n",
        "\n",
        "# Calculating the error for each row\n",
        "TestingDataResults['APE']=100 * ((abs(\n",
        "  TestingDataResults['price']-TestingDataResults['Predictedprice']))/TestingDataResults['price'])\n",
        "\n",
        "MAPE=np.mean(TestingDataResults['APE'])\n",
        "MedianMAPE=np.median(TestingDataResults['APE'])\n",
        "\n",
        "Accuracy =100 - MAPE\n",
        "MedianAccuracy=100- MedianMAPE\n",
        "print('Mean Accuracy on test data:', Accuracy) # Can be negative sometimes due to outlier\n",
        "print('Median Accuracy on test data:', MedianAccuracy)\n",
        "\n",
        "# Defining a custom function to calculate accuracy\n",
        "# Make sure there are no zeros in the Target variable if you are using MAPE\n",
        "def Accuracy_Score(orig,pred):\n",
        "    MAPE = np.mean(100 * (np.abs(orig-pred)/orig))\n",
        "    #print('#'*70,'Accuracy:', 100-MAPE)\n",
        "    return(100-MAPE)\n",
        "\n",
        "# Custom Scoring MAPE calculation\n",
        "from sklearn.metrics import make_scorer\n",
        "custom_Scoring=make_scorer(Accuracy_Score, greater_is_better=True)\n",
        "\n",
        "# Importing cross validation function from sklearn\n",
        "from sklearn.model_selection import cross_val_score\n",
        "\n",
        "# Running 10-Fold Cross validation on a given algorithm\n",
        "# Passing full data X and y because the K-fold will split the data and automatically choose train/test\n",
        "Accuracy_Values=cross_val_score(RegModel, X , y, cv=10, scoring=custom_Scoring)\n",
        "print('\\nAccuracy values for 10-fold Cross Validation:\\n',Accuracy_Values)\n",
        "print('\\nFinal Average Accuracy of the model:', round(Accuracy_Values.mean(),2))"
      ]
    },
    {
      "cell_type": "markdown",
      "metadata": {
        "id": "dHs-wLQgtsTd"
      },
      "source": [
        "## **Decision Tree Regressor**\n"
      ]
    },
    {
      "cell_type": "code",
      "execution_count": 32,
      "metadata": {
        "colab": {
          "base_uri": "https://localhost:8080/",
          "height": 864
        },
        "id": "mBODSZ3Etq5Z",
        "outputId": "e18d167f-b004-446e-8137-9caf5ffecf60"
      },
      "outputs": [
        {
          "name": "stdout",
          "output_type": "stream",
          "text": [
            "DecisionTreeRegressor(criterion='friedman_mse', max_depth=5)\n",
            "R2 Value: 0.8806608129085106\n",
            "\n",
            "##### Model Validation and Accuracy Calculations ##########\n",
            "      carat     depth     table         x         y         z  price  \\\n",
            "0  0.008316  0.530556  0.250000  0.369646  0.067912  0.077673    559   \n",
            "1  0.079002  0.472222  0.269231  0.506518  0.092020  0.102516   2201   \n",
            "2  0.041580  0.530556  0.230769  0.443203  0.080475  0.092767   1238   \n",
            "3  0.047817  0.494444  0.269231  0.458101  0.083022  0.093711   1304   \n",
            "4  0.280665  0.536111  0.230769  0.692737  0.125127  0.144969   6901   \n",
            "\n",
            "   Predictedprice  \n",
            "0           577.0  \n",
            "1          1969.0  \n",
            "2           916.0  \n",
            "3          1042.0  \n",
            "4         10678.0  \n",
            "Mean Accuracy on test data: 79.07574827430571\n",
            "Median Accuracy on test data: 83.5685938222537\n",
            "\n",
            "Accuracy values for 10-fold Cross Validation:\n",
            " [69.45725658 66.27891678 75.50517378 68.787473   72.41112674 77.68408592\n",
            " 76.86354004 64.35844964 79.44761092 72.43938395]\n",
            "\n",
            "Final Average Accuracy of the model: 72.32\n"
          ]
        },
        {
          "data": {
            "image/png": "[encoded data removed]",
            "text/plain": [
              "<Figure size 640x480 with 1 Axes>"
            ]
          },
          "metadata": {},
          "output_type": "display_data"
        }
      ],
      "source": [
        "# Decision Trees (Multiple if-else statements!)\n",
        "from sklearn.tree import DecisionTreeRegressor\n",
        "RegModel = DecisionTreeRegressor(max_depth=5,criterion='friedman_mse')\n",
        "# Good Range of Max_depth = 2 to 20\n",
        "\n",
        "# Printing all the parameters of Decision Tree\n",
        "print(RegModel)\n",
        "\n",
        "# Creating the model on Training Data\n",
        "DT=RegModel.fit(X_train,y_train)\n",
        "prediction=DT.predict(X_test)\n",
        "\n",
        "from sklearn import metrics\n",
        "# Measuring Goodness of fit in Training data\n",
        "print('R2 Value:',metrics.r2_score(y_train, DT.predict(X_train)))\n",
        "\n",
        "# Plotting the feature importance for Top 10 most important columns\n",
        "%matplotlib inline\n",
        "feature_importances = pd.Series(DT.feature_importances_, index=Predictors)\n",
        "feature_importances.nlargest(10).plot(kind='barh')\n",
        "\n",
        "###########################################################################\n",
        "print('\\n##### Model Validation and Accuracy Calculations ##########')\n",
        "\n",
        "# Printing some sample values of prediction\n",
        "TestingDataResults=pd.DataFrame(data=X_test, columns=Predictors)\n",
        "TestingDataResults[TargetVariable]=y_test\n",
        "TestingDataResults[('Predicted'+TargetVariable)]=np.round(prediction)\n",
        "\n",
        "# Printing sample prediction values\n",
        "print(TestingDataResults.head())\n",
        "\n",
        "# Calculating the error for each row\n",
        "TestingDataResults['APE']=100 * ((abs(\n",
        "  TestingDataResults['price']-TestingDataResults['Predictedprice']))/TestingDataResults['price'])\n",
        "\n",
        "MAPE=np.mean(TestingDataResults['APE'])\n",
        "MedianMAPE=np.median(TestingDataResults['APE'])\n",
        "\n",
        "Accuracy =100 - MAPE\n",
        "MedianAccuracy=100- MedianMAPE\n",
        "print('Mean Accuracy on test data:', Accuracy) # Can be negative sometimes due to outlier\n",
        "print('Median Accuracy on test data:', MedianAccuracy)\n",
        "\n",
        "# Defining a custom function to calculate accuracy\n",
        "# Make sure there are no zeros in the Target variable if you are using MAPE\n",
        "def Accuracy_Score(orig,pred):\n",
        "    MAPE = np.mean(100 * (np.abs(orig-pred)/orig))\n",
        "    #print('#'*70,'Accuracy:', 100-MAPE)\n",
        "    return(100-MAPE)\n",
        "\n",
        "# Custom Scoring MAPE calculation\n",
        "from sklearn.metrics import make_scorer\n",
        "custom_Scoring=make_scorer(Accuracy_Score, greater_is_better=True)\n",
        "\n",
        "# Importing cross validation function from sklearn\n",
        "from sklearn.model_selection import cross_val_score\n",
        "\n",
        "# Running 10-Fold Cross validation on a given algorithm\n",
        "# Passing full data X and y because the K-fold will split the data and automatically choose train/test\n",
        "Accuracy_Values=cross_val_score(RegModel, X , y, cv=10, scoring=custom_Scoring)\n",
        "print('\\nAccuracy values for 10-fold Cross Validation:\\n',Accuracy_Values)\n",
        "print('\\nFinal Average Accuracy of the model:', round(Accuracy_Values.mean(),2))"
      ]
    },
    {
      "cell_type": "code",
      "execution_count": 33,
      "metadata": {
        "colab": {
          "base_uri": "https://localhost:8080/",
          "height": 1000
        },
        "id": "pk7CAMXzuazn",
        "outputId": "df32ecf8-abd6-436f-c9f0-009550effa51"
      },
      "outputs": [
        {
          "ename": "InvocationException",
          "evalue": "GraphViz's executables not found",
          "output_type": "error",
          "traceback": [
            "\u001b[1;31m---------------------------------------------------------------------------\u001b[0m",
            "\u001b[1;31mInvocationException\u001b[0m                       Traceback (most recent call last)",
            "Cell \u001b[1;32mIn[33], line 17\u001b[0m\n\u001b[0;32m     14\u001b[0m graph \u001b[38;5;241m=\u001b[39m pydotplus\u001b[38;5;241m.\u001b[39mgraph_from_dot_data(dot_data)\n\u001b[0;32m     16\u001b[0m \u001b[38;5;66;03m# Show graph\u001b[39;00m\n\u001b[1;32m---> 17\u001b[0m Image(\u001b[43mgraph\u001b[49m\u001b[38;5;241;43m.\u001b[39;49m\u001b[43mcreate_png\u001b[49m\u001b[43m(\u001b[49m\u001b[43m)\u001b[49m, width\u001b[38;5;241m=\u001b[39m\u001b[38;5;241m2000\u001b[39m,height\u001b[38;5;241m=\u001b[39m\u001b[38;5;241m2000\u001b[39m)\n\u001b[0;32m     18\u001b[0m \u001b[38;5;66;03m# Double click on the graph to zoom in\u001b[39;00m\n",
            "File \u001b[1;32m~\\AppData\\Local\\Packages\\PythonSoftwareFoundation.Python.3.12_qbz5n2kfra8p0\\LocalCache\\local-packages\\Python312\\site-packages\\pydotplus\\graphviz.py:1797\u001b[0m, in \u001b[0;36mDot.__init__.<locals>.<lambda>\u001b[1;34m(f, prog)\u001b[0m\n\u001b[0;32m   1792\u001b[0m \u001b[38;5;66;03m# Automatically creates all the methods enabling the creation\u001b[39;00m\n\u001b[0;32m   1793\u001b[0m \u001b[38;5;66;03m# of output in any of the supported formats.\u001b[39;00m\n\u001b[0;32m   1794\u001b[0m \u001b[38;5;28;01mfor\u001b[39;00m frmt \u001b[38;5;129;01min\u001b[39;00m \u001b[38;5;28mself\u001b[39m\u001b[38;5;241m.\u001b[39mformats:\n\u001b[0;32m   1795\u001b[0m     \u001b[38;5;28mself\u001b[39m\u001b[38;5;241m.\u001b[39m\u001b[38;5;21m__setattr__\u001b[39m(\n\u001b[0;32m   1796\u001b[0m         \u001b[38;5;124m'\u001b[39m\u001b[38;5;124mcreate_\u001b[39m\u001b[38;5;124m'\u001b[39m \u001b[38;5;241m+\u001b[39m frmt,\n\u001b[1;32m-> 1797\u001b[0m         \u001b[38;5;28;01mlambda\u001b[39;00m f\u001b[38;5;241m=\u001b[39mfrmt, prog\u001b[38;5;241m=\u001b[39m\u001b[38;5;28mself\u001b[39m\u001b[38;5;241m.\u001b[39mprog: \u001b[38;5;28;43mself\u001b[39;49m\u001b[38;5;241;43m.\u001b[39;49m\u001b[43mcreate\u001b[49m\u001b[43m(\u001b[49m\u001b[38;5;28;43mformat\u001b[39;49m\u001b[38;5;241;43m=\u001b[39;49m\u001b[43mf\u001b[49m\u001b[43m,\u001b[49m\u001b[43m \u001b[49m\u001b[43mprog\u001b[49m\u001b[38;5;241;43m=\u001b[39;49m\u001b[43mprog\u001b[49m\u001b[43m)\u001b[49m\n\u001b[0;32m   1798\u001b[0m     )\n\u001b[0;32m   1799\u001b[0m     f \u001b[38;5;241m=\u001b[39m \u001b[38;5;28mself\u001b[39m\u001b[38;5;241m.\u001b[39m\u001b[38;5;18m__dict__\u001b[39m[\u001b[38;5;124m'\u001b[39m\u001b[38;5;124mcreate_\u001b[39m\u001b[38;5;124m'\u001b[39m \u001b[38;5;241m+\u001b[39m frmt]\n\u001b[0;32m   1800\u001b[0m     f\u001b[38;5;241m.\u001b[39m\u001b[38;5;18m__doc__\u001b[39m \u001b[38;5;241m=\u001b[39m (\n\u001b[0;32m   1801\u001b[0m \u001b[38;5;250m        \u001b[39m\u001b[38;5;124;03m'''Refer to the docstring accompanying the'''\u001b[39;00m\n\u001b[0;32m   1802\u001b[0m \u001b[38;5;250m        \u001b[39m\u001b[38;5;124;03m''''create' method for more information.'''\u001b[39;00m\n\u001b[0;32m   1803\u001b[0m     )\n",
            "File \u001b[1;32m~\\AppData\\Local\\Packages\\PythonSoftwareFoundation.Python.3.12_qbz5n2kfra8p0\\LocalCache\\local-packages\\Python312\\site-packages\\pydotplus\\graphviz.py:1959\u001b[0m, in \u001b[0;36mDot.create\u001b[1;34m(self, prog, format)\u001b[0m\n\u001b[0;32m   1957\u001b[0m     \u001b[38;5;28mself\u001b[39m\u001b[38;5;241m.\u001b[39mprogs \u001b[38;5;241m=\u001b[39m find_graphviz()\n\u001b[0;32m   1958\u001b[0m     \u001b[38;5;28;01mif\u001b[39;00m \u001b[38;5;28mself\u001b[39m\u001b[38;5;241m.\u001b[39mprogs \u001b[38;5;129;01mis\u001b[39;00m \u001b[38;5;28;01mNone\u001b[39;00m:\n\u001b[1;32m-> 1959\u001b[0m         \u001b[38;5;28;01mraise\u001b[39;00m InvocationException(\n\u001b[0;32m   1960\u001b[0m             \u001b[38;5;124m'\u001b[39m\u001b[38;5;124mGraphViz\u001b[39m\u001b[38;5;130;01m\\'\u001b[39;00m\u001b[38;5;124ms executables not found\u001b[39m\u001b[38;5;124m'\u001b[39m)\n\u001b[0;32m   1962\u001b[0m \u001b[38;5;28;01mif\u001b[39;00m prog \u001b[38;5;129;01mnot\u001b[39;00m \u001b[38;5;129;01min\u001b[39;00m \u001b[38;5;28mself\u001b[39m\u001b[38;5;241m.\u001b[39mprogs:\n\u001b[0;32m   1963\u001b[0m     \u001b[38;5;28;01mraise\u001b[39;00m InvocationException(\n\u001b[0;32m   1964\u001b[0m         \u001b[38;5;124m'\u001b[39m\u001b[38;5;124mGraphViz\u001b[39m\u001b[38;5;130;01m\\'\u001b[39;00m\u001b[38;5;124ms executable \u001b[39m\u001b[38;5;124m\"\u001b[39m\u001b[38;5;132;01m%s\u001b[39;00m\u001b[38;5;124m\"\u001b[39m\u001b[38;5;124m not found\u001b[39m\u001b[38;5;124m'\u001b[39m \u001b[38;5;241m%\u001b[39m prog)\n",
            "\u001b[1;31mInvocationException\u001b[0m: GraphViz's executables not found"
          ]
        }
      ],
      "source": [
        "# Load libraries\n",
        "from IPython.display import Image\n",
        "from sklearn import tree\n",
        "import pydotplus\n",
        "\n",
        "# Remove the class_names parameter as it's not relevant for regression\n",
        "dot_data = tree.export_graphviz(RegModel, out_file=None,\n",
        "                                feature_names=Predictors)\n",
        "\n",
        "# printing the rules\n",
        "#print(dot_data)\n",
        "\n",
        "# Draw graph\n",
        "graph = pydotplus.graph_from_dot_data(dot_data)\n",
        "\n",
        "# Show graph\n",
        "Image(graph.create_png(), width=2000,height=2000)\n",
        "# Double click on the graph to zoom in"
      ]
    },
    {
      "cell_type": "markdown",
      "metadata": {
        "id": "vDpEoP94QmS2"
      },
      "source": []
    },
    {
      "cell_type": "markdown",
      "metadata": {
        "id": "dTF-FFB2ISbZ"
      },
      "source": [
        "# Random Forest Regressor"
      ]
    },
    {
      "cell_type": "code",
      "execution_count": 34,
      "metadata": {
        "colab": {
          "base_uri": "https://localhost:8080/",
          "height": 864
        },
        "id": "deCJtdbJQ-DY",
        "outputId": "6c5b1966-80da-4b51-8e51-1791aabad8ab"
      },
      "outputs": [
        {
          "name": "stdout",
          "output_type": "stream",
          "text": [
            "RandomForestRegressor(criterion='friedman_mse', max_depth=4, n_estimators=400)\n",
            "R2 Value: 0.8791101864572921\n",
            "\n",
            "##### Model Validation and Accuracy Calculations ##########\n",
            "      carat     depth     table         x         y         z  price  \\\n",
            "0  0.008316  0.530556  0.250000  0.369646  0.067912  0.077673    559   \n",
            "1  0.079002  0.472222  0.269231  0.506518  0.092020  0.102516   2201   \n",
            "2  0.041580  0.530556  0.230769  0.443203  0.080475  0.092767   1238   \n",
            "3  0.047817  0.494444  0.269231  0.458101  0.083022  0.093711   1304   \n",
            "4  0.280665  0.536111  0.230769  0.692737  0.125127  0.144969   6901   \n",
            "\n",
            "   Predictedprice  \n",
            "0           699.0  \n",
            "1          1840.0  \n",
            "2           965.0  \n",
            "3           965.0  \n",
            "4         10595.0  \n",
            "Mean Accuracy on test data: 78.33668053582477\n",
            "Median Accuracy on test data: 82.81990521327015\n",
            "\n",
            "Accuracy values for 10-fold Cross Validation:\n",
            " [68.96250444 65.35705159 75.56059977 68.75298527 72.36873354 79.15551464\n",
            " 74.51553482 63.50900677 78.1253764  71.31543382]\n",
            "\n",
            "Final Average Accuracy of the model: 71.76\n"
          ]
        },
        {
          "data": {
            "image/png": "[encoded data removed]",
            "text/plain": [
              "<Figure size 640x480 with 1 Axes>"
            ]
          },
          "metadata": {},
          "output_type": "display_data"
        }
      ],
      "source": [
        "# Random Forest (Bagging of multiple Decision Trees)\n",
        "from sklearn.ensemble import RandomForestRegressor\n",
        "RegModel = RandomForestRegressor(max_depth=4, n_estimators=400,criterion='friedman_mse')\n",
        "# Good range for max_depth: 2-10 and n_estimators: 100-1000\n",
        "\n",
        "# Printing all the parameters of Random Forest\n",
        "print(RegModel)\n",
        "\n",
        "# Creating the model on Training Data\n",
        "RF=RegModel.fit(X_train,y_train)\n",
        "prediction=RF.predict(X_test)\n",
        "\n",
        "from sklearn import metrics\n",
        "# Measuring Goodness of fit in Training data\n",
        "print('R2 Value:',metrics.r2_score(y_train, RF.predict(X_train)))\n",
        "\n",
        "# Plotting the feature importance for Top 10 most important columns\n",
        "%matplotlib inline\n",
        "feature_importances = pd.Series(RF.feature_importances_, index=Predictors)\n",
        "feature_importances.nlargest(10).plot(kind='barh')\n",
        "\n",
        "###########################################################################\n",
        "print('\\n##### Model Validation and Accuracy Calculations ##########')\n",
        "\n",
        "# Printing some sample values of prediction\n",
        "TestingDataResults=pd.DataFrame(data=X_test, columns=Predictors)\n",
        "TestingDataResults[TargetVariable]=y_test\n",
        "TestingDataResults[('Predicted'+TargetVariable)]=np.round(prediction)\n",
        "\n",
        "# Printing sample prediction values\n",
        "print(TestingDataResults.head())\n",
        "\n",
        "# Calculating the error for each row\n",
        "TestingDataResults['APE']=100 * ((abs(\n",
        "  TestingDataResults['price']-TestingDataResults['Predictedprice']))/TestingDataResults['price'])\n",
        "\n",
        "MAPE=np.mean(TestingDataResults['APE'])\n",
        "OpenMAPE=np.median(TestingDataResults['APE'])\n",
        "\n",
        "Accuracy =100 - MAPE\n",
        "OpenAccuracy=100- OpenMAPE\n",
        "print('Mean Accuracy on test data:', Accuracy) # Can be negative sometimes due to outlier\n",
        "print('Median Accuracy on test data:', OpenAccuracy)\n",
        "\n",
        "\n",
        "# Defining a custom function to calculate accuracy\n",
        "# Make sure there are no zeros in the Target variable if you are using MAPE\n",
        "def Accuracy_Score(orig,pred):\n",
        "    MAPE = np.mean(100 * (np.abs(orig-pred)/orig))\n",
        "    #print('#'*70,'Accuracy:', 100-MAPE)\n",
        "    return(100-MAPE)\n",
        "\n",
        "# Custom Scoring MAPE calculation\n",
        "from sklearn.metrics import make_scorer\n",
        "custom_Scoring=make_scorer(Accuracy_Score, greater_is_better=True)\n",
        "\n",
        "# Importing cross validation function from sklearn\n",
        "from sklearn.model_selection import cross_val_score\n",
        "\n",
        "# Running 10-Fold Cross validation on a given algorithm\n",
        "# Passing full data X and y because the K-fold will split the data and automatically choose train/test\n",
        "Accuracy_Values=cross_val_score(RegModel, X , y, cv=10, scoring=custom_Scoring)\n",
        "print('\\nAccuracy values for 10-fold Cross Validation:\\n',Accuracy_Values)\n",
        "print('\\nFinal Average Accuracy of the model:', round(Accuracy_Values.mean(),2))"
      ]
    },
    {
      "cell_type": "markdown",
      "metadata": {
        "id": "F8nRgVmyw5t2"
      },
      "source": [
        "**Step 21: AdaBoost Algorithm For ML/AI model building**"
      ]
    },
    {
      "cell_type": "code",
      "execution_count": 35,
      "metadata": {
        "colab": {
          "base_uri": "https://localhost:8080/",
          "height": 797
        },
        "id": "bgBvKeD-w8c8",
        "outputId": "3e15d6b7-4606-4855-cd8a-1df2d85d48be"
      },
      "outputs": [
        {
          "ename": "TypeError",
          "evalue": "AdaBoostRegressor.__init__() got an unexpected keyword argument 'base_estimator'",
          "output_type": "error",
          "traceback": [
            "\u001b[1;31m---------------------------------------------------------------------------\u001b[0m",
            "\u001b[1;31mTypeError\u001b[0m                                 Traceback (most recent call last)",
            "Cell \u001b[1;32mIn[35], line 6\u001b[0m\n\u001b[0;32m      4\u001b[0m \u001b[38;5;66;03m# Choosing Decision Tree with 6 level as the weak learner\u001b[39;00m\n\u001b[0;32m      5\u001b[0m DTR\u001b[38;5;241m=\u001b[39mDecisionTreeRegressor(max_depth\u001b[38;5;241m=\u001b[39m\u001b[38;5;241m3\u001b[39m)\n\u001b[1;32m----> 6\u001b[0m RegModel \u001b[38;5;241m=\u001b[39m \u001b[43mAdaBoostRegressor\u001b[49m\u001b[43m(\u001b[49m\u001b[43mn_estimators\u001b[49m\u001b[38;5;241;43m=\u001b[39;49m\u001b[38;5;241;43m100\u001b[39;49m\u001b[43m,\u001b[49m\u001b[43m \u001b[49m\u001b[43mbase_estimator\u001b[49m\u001b[38;5;241;43m=\u001b[39;49m\u001b[43mDTR\u001b[49m\u001b[43m \u001b[49m\u001b[43m,\u001b[49m\u001b[43mlearning_rate\u001b[49m\u001b[38;5;241;43m=\u001b[39;49m\u001b[38;5;241;43m0.04\u001b[39;49m\u001b[43m)\u001b[49m\n\u001b[0;32m      7\u001b[0m \u001b[38;5;66;03m# Printing all the parameters of Adaboost\u001b[39;00m\n\u001b[0;32m      8\u001b[0m \u001b[38;5;28mprint\u001b[39m(RegModel)\n",
            "\u001b[1;31mTypeError\u001b[0m: AdaBoostRegressor.__init__() got an unexpected keyword argument 'base_estimator'"
          ]
        }
      ],
      "source": [
        "# Adaboost (Boosting of multiple Decision Trees)\n",
        "from sklearn.ensemble import AdaBoostRegressor\n",
        "from sklearn.tree import DecisionTreeRegressor\n",
        "# Choosing Decision Tree with 6 level as the weak learner\n",
        "DTR=DecisionTreeRegressor(max_depth=3)\n",
        "RegModel = AdaBoostRegressor(n_estimators=100, base_estimator=DTR ,learning_rate=0.04)\n",
        "# Printing all the parameters of Adaboost\n",
        "print(RegModel)\n",
        "# Creating the model on Training Data\n",
        "AB=RegModel.fit(X_train,y_train)\n",
        "prediction=AB.predict(X_test)\n",
        "from sklearn import metrics\n",
        "# Measuring Goodness of fit in Training data\n",
        "print('R2 Value:',metrics.r2_score(y_train, AB.predict(X_train)))\n",
        "# Plotting the feature importance for Top 10 most important columns\n",
        "%matplotlib inline\n",
        "feature_importances = pd.Series(AB.feature_importances_, index=Predictors)\n",
        "feature_importances.nlargest(10).plot(kind='barh')\n",
        "###########################################################################\n",
        "print('\\n##### Model Validation and Accuracy Calculations ##########')\n",
        "# Printing some sample values of prediction\n",
        "TestingDataResults=pd.DataFrame(data=X_test, columns=Predictors)\n",
        "TestingDataResults[TargetVariable]=y_test\n",
        "TestingDataResults[('Predicted'+TargetVariable)]=np.round(prediction)\n",
        "# Printing sample prediction values\n",
        "print(TestingDataResults.head())\n",
        "# Calculating the error for each row\n",
        "TestingDataResults['APE']=100 * ((abs(\n",
        "TestingDataResults['price']-TestingDataResults['Predictedprice']))/TestingDataResults['price'])\n",
        "MAPE=np.mean(TestingDataResults['APE'])\n",
        "MedianMAPE=np.median(TestingDataResults['APE'])\n",
        "Accuracy =100 - MAPE\n",
        "\n"
      ]
    },
    {
      "cell_type": "code",
      "execution_count": 36,
      "metadata": {
        "colab": {
          "base_uri": "https://localhost:8080/"
        },
        "id": "RtSfJXJGxcz0",
        "outputId": "fcf85794-3b77-4021-dcaa-6e18cd8eec2b"
      },
      "outputs": [
        {
          "name": "stdout",
          "output_type": "stream",
          "text": [
            "Mean Accuracy on test data: 78.33668053582477\n",
            "Median Accuracy on test data: 83.5685938222537\n",
            "\n",
            "Accuracy values for 10-fold Cross Validation:\n",
            " [68.92946506 65.36434555 75.53226532 68.77472002 72.42948084 79.15279885\n",
            " 74.54370706 63.58057599 78.03445803 71.35789859]\n",
            "\n",
            "Final Average Accuracy of the model: 71.77\n"
          ]
        }
      ],
      "source": [
        "# Adaboost (Boosting of multiple Decision Trees)\n",
        "\n",
        "\n",
        "MedianAccuracy=100- MedianMAPE\n",
        "print('Mean Accuracy on test data:', Accuracy) # Can be negative sometimes due to outlier\n",
        "print('Median Accuracy on test data:', MedianAccuracy)\n",
        "\n",
        "# Defining a custom function to calculate accuracy\n",
        "# Make sure there are no zeros in the Target variable if you are using MAPE\n",
        "def Accuracy_Score(orig,pred): # Removed extra indent here\n",
        "    MAPE = np.mean(100 * (np.abs(orig-pred)/orig))\n",
        "    #print('#'*70,'Accuracy:', 100-MAPE)\n",
        "    return(100-MAPE)\n",
        "\n",
        "# Custom Scoring MAPE calculation\n",
        "from sklearn.metrics import make_scorer\n",
        "custom_Scoring=make_scorer(Accuracy_Score, greater_is_better=True)\n",
        "\n",
        "# ... (rest of your code)\n",
        "# Importing cross validation function from sklearn\n",
        "from sklearn.model_selection import cross_val_score\n",
        "# Running 10-Fold Cross validation on a given algorithm\n",
        "# Passing full data X and y because the K-fold will split the data and automatically choose train/test\n",
        "Accuracy_Values=cross_val_score(RegModel, X , y, cv=10, scoring=custom_Scoring)\n",
        "print('\\nAccuracy values for 10-fold Cross Validation:\\n',Accuracy_Values)\n",
        "print('\\nFinal Average Accuracy of the model:', round(Accuracy_Values.mean(),2))\n"
      ]
    },
    {
      "cell_type": "markdown",
      "metadata": {
        "id": "1GWafaVEyJ6y"
      },
      "source": [
        "**XGBoost Regressor**\n",
        "\n",
        "\n",
        "---\n",
        "\n",
        "\n"
      ]
    },
    {
      "cell_type": "code",
      "execution_count": 37,
      "metadata": {
        "colab": {
          "base_uri": "https://localhost:8080/",
          "height": 1000
        },
        "id": "SkW6kKjizVgG",
        "outputId": "4bc50090-4fb4-40c6-e46c-d694ef1d2955"
      },
      "outputs": [
        {
          "name": "stdout",
          "output_type": "stream",
          "text": [
            "XGBRegressor(base_score=None, booster='gbtree', callbacks=None,\n",
            "             colsample_bylevel=None, colsample_bynode=None,\n",
            "             colsample_bytree=None, device=None, early_stopping_rounds=None,\n",
            "             enable_categorical=False, eval_metric=None, feature_types=None,\n",
            "             gamma=None, grow_policy=None, importance_type=None,\n",
            "             interaction_constraints=None, learning_rate=0.1, max_bin=None,\n",
            "             max_cat_threshold=None, max_cat_to_onehot=None,\n",
            "             max_delta_step=None, max_depth=2, max_leaves=None,\n",
            "             min_child_weight=None, missing=nan, monotone_constraints=None,\n",
            "             multi_strategy=None, n_estimators=1000, n_jobs=None,\n",
            "             num_parallel_tree=None, objective='reg:linear', ...)\n"
          ]
        },
        {
          "name": "stderr",
          "output_type": "stream",
          "text": [
            "C:\\Users\\Baoryan\\AppData\\Local\\Packages\\PythonSoftwareFoundation.Python.3.12_qbz5n2kfra8p0\\LocalCache\\local-packages\\Python312\\site-packages\\xgboost\\core.py:158: UserWarning: [13:51:54] WARNING: C:\\buildkite-agent\\builds\\buildkite-windows-cpu-autoscaling-group-i-0015a694724fa8361-1\\xgboost\\xgboost-ci-windows\\src\\objective\\regression_obj.cu:227: reg:linear is now deprecated in favor of reg:squarederror.\n",
            "  warnings.warn(smsg, UserWarning)\n"
          ]
        },
        {
          "name": "stdout",
          "output_type": "stream",
          "text": [
            "R2 Value: 0.893243670463562\n",
            "\n",
            "##### Model Validation and Accuracy Calculations ##########\n",
            "      carat     depth     table         x         y         z  price  \\\n",
            "0  0.008316  0.530556  0.250000  0.369646  0.067912  0.077673    559   \n",
            "1  0.079002  0.472222  0.269231  0.506518  0.092020  0.102516   2201   \n",
            "2  0.041580  0.530556  0.230769  0.443203  0.080475  0.092767   1238   \n",
            "3  0.047817  0.494444  0.269231  0.458101  0.083022  0.093711   1304   \n",
            "4  0.280665  0.536111  0.230769  0.692737  0.125127  0.144969   6901   \n",
            "\n",
            "   Predictedprice  \n",
            "0           565.0  \n",
            "1          1844.0  \n",
            "2          1011.0  \n",
            "3          1093.0  \n",
            "4         10946.0  \n",
            "Mean Accuracy on test data: 79.85532459992896\n",
            "Open Accuracy on test data: 82.81990521327015\n"
          ]
        },
        {
          "name": "stderr",
          "output_type": "stream",
          "text": [
            "C:\\Users\\Baoryan\\AppData\\Local\\Packages\\PythonSoftwareFoundation.Python.3.12_qbz5n2kfra8p0\\LocalCache\\local-packages\\Python312\\site-packages\\xgboost\\core.py:158: UserWarning: [13:51:54] WARNING: C:\\buildkite-agent\\builds\\buildkite-windows-cpu-autoscaling-group-i-0015a694724fa8361-1\\xgboost\\xgboost-ci-windows\\src\\objective\\regression_obj.cu:227: reg:linear is now deprecated in favor of reg:squarederror.\n",
            "  warnings.warn(smsg, UserWarning)\n",
            "C:\\Users\\Baoryan\\AppData\\Local\\Packages\\PythonSoftwareFoundation.Python.3.12_qbz5n2kfra8p0\\LocalCache\\local-packages\\Python312\\site-packages\\xgboost\\core.py:158: UserWarning: [13:51:55] WARNING: C:\\buildkite-agent\\builds\\buildkite-windows-cpu-autoscaling-group-i-0015a694724fa8361-1\\xgboost\\xgboost-ci-windows\\src\\objective\\regression_obj.cu:227: reg:linear is now deprecated in favor of reg:squarederror.\n",
            "  warnings.warn(smsg, UserWarning)\n",
            "C:\\Users\\Baoryan\\AppData\\Local\\Packages\\PythonSoftwareFoundation.Python.3.12_qbz5n2kfra8p0\\LocalCache\\local-packages\\Python312\\site-packages\\xgboost\\core.py:158: UserWarning: [13:51:56] WARNING: C:\\buildkite-agent\\builds\\buildkite-windows-cpu-autoscaling-group-i-0015a694724fa8361-1\\xgboost\\xgboost-ci-windows\\src\\objective\\regression_obj.cu:227: reg:linear is now deprecated in favor of reg:squarederror.\n",
            "  warnings.warn(smsg, UserWarning)\n",
            "C:\\Users\\Baoryan\\AppData\\Local\\Packages\\PythonSoftwareFoundation.Python.3.12_qbz5n2kfra8p0\\LocalCache\\local-packages\\Python312\\site-packages\\xgboost\\core.py:158: UserWarning: [13:51:57] WARNING: C:\\buildkite-agent\\builds\\buildkite-windows-cpu-autoscaling-group-i-0015a694724fa8361-1\\xgboost\\xgboost-ci-windows\\src\\objective\\regression_obj.cu:227: reg:linear is now deprecated in favor of reg:squarederror.\n",
            "  warnings.warn(smsg, UserWarning)\n",
            "C:\\Users\\Baoryan\\AppData\\Local\\Packages\\PythonSoftwareFoundation.Python.3.12_qbz5n2kfra8p0\\LocalCache\\local-packages\\Python312\\site-packages\\xgboost\\core.py:158: UserWarning: [13:51:58] WARNING: C:\\buildkite-agent\\builds\\buildkite-windows-cpu-autoscaling-group-i-0015a694724fa8361-1\\xgboost\\xgboost-ci-windows\\src\\objective\\regression_obj.cu:227: reg:linear is now deprecated in favor of reg:squarederror.\n",
            "  warnings.warn(smsg, UserWarning)\n",
            "C:\\Users\\Baoryan\\AppData\\Local\\Packages\\PythonSoftwareFoundation.Python.3.12_qbz5n2kfra8p0\\LocalCache\\local-packages\\Python312\\site-packages\\xgboost\\core.py:158: UserWarning: [13:51:59] WARNING: C:\\buildkite-agent\\builds\\buildkite-windows-cpu-autoscaling-group-i-0015a694724fa8361-1\\xgboost\\xgboost-ci-windows\\src\\objective\\regression_obj.cu:227: reg:linear is now deprecated in favor of reg:squarederror.\n",
            "  warnings.warn(smsg, UserWarning)\n"
          ]
        },
        {
          "name": "stdout",
          "output_type": "stream",
          "text": [
            "\n",
            "Accuracy values for 10-fold Cross Validation:\n",
            " [72.9921954  67.83439707 75.41134985 70.81302525 73.22447859 78.5928503\n",
            " 79.99184629 67.7118576  80.18802298 74.66213913]\n",
            "\n",
            "Final Average Accuracy of the model: 74.14\n"
          ]
        },
        {
          "data": {
            "image/png": "[encoded data removed]",
            "text/plain": [
              "<Figure size 640x480 with 1 Axes>"
            ]
          },
          "metadata": {},
          "output_type": "display_data"
        }
      ],
      "source": [
        "# Xtreme Gradient Boosting (XGBoost)\n",
        "from xgboost import XGBRegressor\n",
        "RegModel=XGBRegressor(max_depth=2,\n",
        "learning_rate=0.1,\n",
        "n_estimators=1000,\n",
        "objective='reg:linear',\n",
        "booster='gbtree')\n",
        "# Printing all the parameters of XGBoost\n",
        "print(RegModel)\n",
        "# Creating the model on Training Data\n",
        "XGB=RegModel.fit(X_train,y_train)\n",
        "prediction=XGB.predict(X_test)\n",
        "from sklearn import metrics\n",
        "# Measuring Goodness of fit in Training data\n",
        "print('R2 Value:',metrics.r2_score(y_train, XGB.predict(X_train)))\n",
        "# Plotting the feature importance for Top 10 most important columns\n",
        "%matplotlib inline\n",
        "feature_importances = pd.Series(XGB.feature_importances_, index=Predictors)\n",
        "feature_importances.nlargest(10).plot(kind='barh')\n",
        "###########################################################################\n",
        "print('\\n##### Model Validation and Accuracy Calculations ##########')\n",
        "# Printing some sample values of prediction\n",
        "TestingDataResults=pd.DataFrame(data=X_test, columns=Predictors)\n",
        "TestingDataResults[TargetVariable]=y_test\n",
        "TestingDataResults[('Predicted'+TargetVariable)]=np.round(prediction)\n",
        "# Printing sample prediction values\n",
        "print(TestingDataResults.head())\n",
        "# Calculating the error for each row\n",
        "TestingDataResults['APE']=100 * ((abs(\n",
        "TestingDataResults['price']-TestingDataResults['Predictedprice']))/TestingDataResults['price'])\n",
        "MAPE=np.mean(TestingDataResults['APE'])\n",
        "MedianMAPE=np.median(TestingDataResults['APE'])\n",
        "Accuracy =100 - MAPE\n",
        "print('Mean Accuracy on test data:', Accuracy) # Can be negative sometimes due to outlier\n",
        "print('Open Accuracy on test data:', OpenAccuracy)\n",
        "\n",
        "\n",
        "# Defining a custom function to calculate accuracy\n",
        "# Make sure there are no zeros in the Target variable if you are using MAPE\n",
        "def Accuracy_Score(orig,pred):\n",
        "    MAPE = np.mean(100 * (np.abs(orig-pred)/orig))\n",
        "    #print('#'*70,'Accuracy:', 100-MAPE)\n",
        "    return(100-MAPE)\n",
        "\n",
        "# Custom Scoring MAPE calculation\n",
        "from sklearn.metrics import make_scorer\n",
        "custom_Scoring=make_scorer(Accuracy_Score, greater_is_better=True)\n",
        "\n",
        "# Importing cross validation function from sklearn\n",
        "from sklearn.model_selection import cross_val_score\n",
        "\n",
        "# Running 10-Fold Cross validation on a given algorithm\n",
        "# Passing full data X and y because the K-fold will split the data and automatically choose train/test\n",
        "Accuracy_Values=cross_val_score(RegModel, X , y, cv=10, scoring=custom_Scoring)\n",
        "print('\\nAccuracy values for 10-fold Cross Validation:\\n',Accuracy_Values)\n",
        "print('\\nFinal Average Accuracy of the model:', round(Accuracy_Values.mean(),2))\n"
      ]
    },
    {
      "cell_type": "markdown",
      "metadata": {
        "id": "4117YynJ0YoM"
      },
      "source": [
        "\n",
        "**Plotting a single Decision tree out of XGBoost**\n"
      ]
    },
    {
      "cell_type": "code",
      "execution_count": 38,
      "metadata": {
        "colab": {
          "base_uri": "https://localhost:8080/",
          "height": 416
        },
        "id": "5eSN2EE20ayl",
        "outputId": "11041d06-c56c-4038-eb85-7233d975f58f"
      },
      "outputs": [
        {
          "ename": "ExecutableNotFound",
          "evalue": "failed to execute WindowsPath('dot'), make sure the Graphviz executables are on your systems' PATH",
          "output_type": "error",
          "traceback": [
            "\u001b[1;31m---------------------------------------------------------------------------\u001b[0m",
            "\u001b[1;31mFileNotFoundError\u001b[0m                         Traceback (most recent call last)",
            "File \u001b[1;32m~\\AppData\\Local\\Packages\\PythonSoftwareFoundation.Python.3.12_qbz5n2kfra8p0\\LocalCache\\local-packages\\Python312\\site-packages\\graphviz\\backend\\execute.py:76\u001b[0m, in \u001b[0;36mrun_check\u001b[1;34m(cmd, input_lines, encoding, quiet, **kwargs)\u001b[0m\n\u001b[0;32m     75\u001b[0m         kwargs[\u001b[38;5;124m'\u001b[39m\u001b[38;5;124mstdout\u001b[39m\u001b[38;5;124m'\u001b[39m] \u001b[38;5;241m=\u001b[39m kwargs[\u001b[38;5;124m'\u001b[39m\u001b[38;5;124mstderr\u001b[39m\u001b[38;5;124m'\u001b[39m] \u001b[38;5;241m=\u001b[39m subprocess\u001b[38;5;241m.\u001b[39mPIPE\n\u001b[1;32m---> 76\u001b[0m     proc \u001b[38;5;241m=\u001b[39m \u001b[43m_run_input_lines\u001b[49m\u001b[43m(\u001b[49m\u001b[43mcmd\u001b[49m\u001b[43m,\u001b[49m\u001b[43m \u001b[49m\u001b[43minput_lines\u001b[49m\u001b[43m,\u001b[49m\u001b[43m \u001b[49m\u001b[43mkwargs\u001b[49m\u001b[38;5;241;43m=\u001b[39;49m\u001b[43mkwargs\u001b[49m\u001b[43m)\u001b[49m\n\u001b[0;32m     77\u001b[0m \u001b[38;5;28;01melse\u001b[39;00m:\n",
            "File \u001b[1;32m~\\AppData\\Local\\Packages\\PythonSoftwareFoundation.Python.3.12_qbz5n2kfra8p0\\LocalCache\\local-packages\\Python312\\site-packages\\graphviz\\backend\\execute.py:96\u001b[0m, in \u001b[0;36m_run_input_lines\u001b[1;34m(cmd, input_lines, kwargs)\u001b[0m\n\u001b[0;32m     95\u001b[0m \u001b[38;5;28;01mdef\u001b[39;00m \u001b[38;5;21m_run_input_lines\u001b[39m(cmd, input_lines, \u001b[38;5;241m*\u001b[39m, kwargs):\n\u001b[1;32m---> 96\u001b[0m     popen \u001b[38;5;241m=\u001b[39m \u001b[43msubprocess\u001b[49m\u001b[38;5;241;43m.\u001b[39;49m\u001b[43mPopen\u001b[49m\u001b[43m(\u001b[49m\u001b[43mcmd\u001b[49m\u001b[43m,\u001b[49m\u001b[43m \u001b[49m\u001b[43mstdin\u001b[49m\u001b[38;5;241;43m=\u001b[39;49m\u001b[43msubprocess\u001b[49m\u001b[38;5;241;43m.\u001b[39;49m\u001b[43mPIPE\u001b[49m\u001b[43m,\u001b[49m\u001b[43m \u001b[49m\u001b[38;5;241;43m*\u001b[39;49m\u001b[38;5;241;43m*\u001b[39;49m\u001b[43mkwargs\u001b[49m\u001b[43m)\u001b[49m\n\u001b[0;32m     98\u001b[0m     stdin_write \u001b[38;5;241m=\u001b[39m popen\u001b[38;5;241m.\u001b[39mstdin\u001b[38;5;241m.\u001b[39mwrite\n",
            "File \u001b[1;32mC:\\Program Files\\WindowsApps\\PythonSoftwareFoundation.Python.3.12_3.12.1520.0_x64__qbz5n2kfra8p0\\Lib\\subprocess.py:1026\u001b[0m, in \u001b[0;36mPopen.__init__\u001b[1;34m(self, args, bufsize, executable, stdin, stdout, stderr, preexec_fn, close_fds, shell, cwd, env, universal_newlines, startupinfo, creationflags, restore_signals, start_new_session, pass_fds, user, group, extra_groups, encoding, errors, text, umask, pipesize, process_group)\u001b[0m\n\u001b[0;32m   1023\u001b[0m             \u001b[38;5;28mself\u001b[39m\u001b[38;5;241m.\u001b[39mstderr \u001b[38;5;241m=\u001b[39m io\u001b[38;5;241m.\u001b[39mTextIOWrapper(\u001b[38;5;28mself\u001b[39m\u001b[38;5;241m.\u001b[39mstderr,\n\u001b[0;32m   1024\u001b[0m                     encoding\u001b[38;5;241m=\u001b[39mencoding, errors\u001b[38;5;241m=\u001b[39merrors)\n\u001b[1;32m-> 1026\u001b[0m     \u001b[38;5;28;43mself\u001b[39;49m\u001b[38;5;241;43m.\u001b[39;49m\u001b[43m_execute_child\u001b[49m\u001b[43m(\u001b[49m\u001b[43margs\u001b[49m\u001b[43m,\u001b[49m\u001b[43m \u001b[49m\u001b[43mexecutable\u001b[49m\u001b[43m,\u001b[49m\u001b[43m \u001b[49m\u001b[43mpreexec_fn\u001b[49m\u001b[43m,\u001b[49m\u001b[43m \u001b[49m\u001b[43mclose_fds\u001b[49m\u001b[43m,\u001b[49m\n\u001b[0;32m   1027\u001b[0m \u001b[43m                        \u001b[49m\u001b[43mpass_fds\u001b[49m\u001b[43m,\u001b[49m\u001b[43m \u001b[49m\u001b[43mcwd\u001b[49m\u001b[43m,\u001b[49m\u001b[43m \u001b[49m\u001b[43menv\u001b[49m\u001b[43m,\u001b[49m\n\u001b[0;32m   1028\u001b[0m \u001b[43m                        \u001b[49m\u001b[43mstartupinfo\u001b[49m\u001b[43m,\u001b[49m\u001b[43m \u001b[49m\u001b[43mcreationflags\u001b[49m\u001b[43m,\u001b[49m\u001b[43m \u001b[49m\u001b[43mshell\u001b[49m\u001b[43m,\u001b[49m\n\u001b[0;32m   1029\u001b[0m \u001b[43m                        \u001b[49m\u001b[43mp2cread\u001b[49m\u001b[43m,\u001b[49m\u001b[43m \u001b[49m\u001b[43mp2cwrite\u001b[49m\u001b[43m,\u001b[49m\n\u001b[0;32m   1030\u001b[0m \u001b[43m                        \u001b[49m\u001b[43mc2pread\u001b[49m\u001b[43m,\u001b[49m\u001b[43m \u001b[49m\u001b[43mc2pwrite\u001b[49m\u001b[43m,\u001b[49m\n\u001b[0;32m   1031\u001b[0m \u001b[43m                        \u001b[49m\u001b[43merrread\u001b[49m\u001b[43m,\u001b[49m\u001b[43m \u001b[49m\u001b[43merrwrite\u001b[49m\u001b[43m,\u001b[49m\n\u001b[0;32m   1032\u001b[0m \u001b[43m                        \u001b[49m\u001b[43mrestore_signals\u001b[49m\u001b[43m,\u001b[49m\n\u001b[0;32m   1033\u001b[0m \u001b[43m                        \u001b[49m\u001b[43mgid\u001b[49m\u001b[43m,\u001b[49m\u001b[43m \u001b[49m\u001b[43mgids\u001b[49m\u001b[43m,\u001b[49m\u001b[43m \u001b[49m\u001b[43muid\u001b[49m\u001b[43m,\u001b[49m\u001b[43m \u001b[49m\u001b[43mumask\u001b[49m\u001b[43m,\u001b[49m\n\u001b[0;32m   1034\u001b[0m \u001b[43m                        \u001b[49m\u001b[43mstart_new_session\u001b[49m\u001b[43m,\u001b[49m\u001b[43m \u001b[49m\u001b[43mprocess_group\u001b[49m\u001b[43m)\u001b[49m\n\u001b[0;32m   1035\u001b[0m \u001b[38;5;28;01mexcept\u001b[39;00m:\n\u001b[0;32m   1036\u001b[0m     \u001b[38;5;66;03m# Cleanup if the child failed starting.\u001b[39;00m\n",
            "File \u001b[1;32mC:\\Program Files\\WindowsApps\\PythonSoftwareFoundation.Python.3.12_3.12.1520.0_x64__qbz5n2kfra8p0\\Lib\\subprocess.py:1538\u001b[0m, in \u001b[0;36mPopen._execute_child\u001b[1;34m(self, args, executable, preexec_fn, close_fds, pass_fds, cwd, env, startupinfo, creationflags, shell, p2cread, p2cwrite, c2pread, c2pwrite, errread, errwrite, unused_restore_signals, unused_gid, unused_gids, unused_uid, unused_umask, unused_start_new_session, unused_process_group)\u001b[0m\n\u001b[0;32m   1537\u001b[0m \u001b[38;5;28;01mtry\u001b[39;00m:\n\u001b[1;32m-> 1538\u001b[0m     hp, ht, pid, tid \u001b[38;5;241m=\u001b[39m \u001b[43m_winapi\u001b[49m\u001b[38;5;241;43m.\u001b[39;49m\u001b[43mCreateProcess\u001b[49m\u001b[43m(\u001b[49m\u001b[43mexecutable\u001b[49m\u001b[43m,\u001b[49m\u001b[43m \u001b[49m\u001b[43margs\u001b[49m\u001b[43m,\u001b[49m\n\u001b[0;32m   1539\u001b[0m \u001b[43m                             \u001b[49m\u001b[38;5;66;43;03m# no special security\u001b[39;49;00m\n\u001b[0;32m   1540\u001b[0m \u001b[43m                             \u001b[49m\u001b[38;5;28;43;01mNone\u001b[39;49;00m\u001b[43m,\u001b[49m\u001b[43m \u001b[49m\u001b[38;5;28;43;01mNone\u001b[39;49;00m\u001b[43m,\u001b[49m\n\u001b[0;32m   1541\u001b[0m \u001b[43m                             \u001b[49m\u001b[38;5;28;43mint\u001b[39;49m\u001b[43m(\u001b[49m\u001b[38;5;129;43;01mnot\u001b[39;49;00m\u001b[43m \u001b[49m\u001b[43mclose_fds\u001b[49m\u001b[43m)\u001b[49m\u001b[43m,\u001b[49m\n\u001b[0;32m   1542\u001b[0m \u001b[43m                             \u001b[49m\u001b[43mcreationflags\u001b[49m\u001b[43m,\u001b[49m\n\u001b[0;32m   1543\u001b[0m \u001b[43m                             \u001b[49m\u001b[43menv\u001b[49m\u001b[43m,\u001b[49m\n\u001b[0;32m   1544\u001b[0m \u001b[43m                             \u001b[49m\u001b[43mcwd\u001b[49m\u001b[43m,\u001b[49m\n\u001b[0;32m   1545\u001b[0m \u001b[43m                             \u001b[49m\u001b[43mstartupinfo\u001b[49m\u001b[43m)\u001b[49m\n\u001b[0;32m   1546\u001b[0m \u001b[38;5;28;01mfinally\u001b[39;00m:\n\u001b[0;32m   1547\u001b[0m     \u001b[38;5;66;03m# Child is launched. Close the parent's copy of those pipe\u001b[39;00m\n\u001b[0;32m   1548\u001b[0m     \u001b[38;5;66;03m# handles that only the child should have open.  You need\u001b[39;00m\n\u001b[1;32m   (...)\u001b[0m\n\u001b[0;32m   1551\u001b[0m     \u001b[38;5;66;03m# pipe will not close when the child process exits and the\u001b[39;00m\n\u001b[0;32m   1552\u001b[0m     \u001b[38;5;66;03m# ReadFile will hang.\u001b[39;00m\n",
            "\u001b[1;31mFileNotFoundError\u001b[0m: [WinError 2] The system cannot find the file specified",
            "\nThe above exception was the direct cause of the following exception:\n",
            "\u001b[1;31mExecutableNotFound\u001b[0m                        Traceback (most recent call last)",
            "Cell \u001b[1;32mIn[38], line 5\u001b[0m\n\u001b[0;32m      3\u001b[0m \u001b[38;5;28;01mimport\u001b[39;00m \u001b[38;5;21;01mmatplotlib\u001b[39;00m\u001b[38;5;21;01m.\u001b[39;00m\u001b[38;5;21;01mpyplot\u001b[39;00m \u001b[38;5;28;01mas\u001b[39;00m \u001b[38;5;21;01mplt\u001b[39;00m\n\u001b[0;32m      4\u001b[0m fig, ax \u001b[38;5;241m=\u001b[39m plt\u001b[38;5;241m.\u001b[39msubplots(figsize\u001b[38;5;241m=\u001b[39m(\u001b[38;5;241m20\u001b[39m, \u001b[38;5;241m8\u001b[39m))\n\u001b[1;32m----> 5\u001b[0m \u001b[43mplot_tree\u001b[49m\u001b[43m(\u001b[49m\u001b[43mXGB\u001b[49m\u001b[43m,\u001b[49m\u001b[43m \u001b[49m\u001b[43mnum_trees\u001b[49m\u001b[38;5;241;43m=\u001b[39;49m\u001b[38;5;241;43m10\u001b[39;49m\u001b[43m,\u001b[49m\u001b[43m \u001b[49m\u001b[43max\u001b[49m\u001b[38;5;241;43m=\u001b[39;49m\u001b[43max\u001b[49m\u001b[43m)\u001b[49m\n",
            "File \u001b[1;32m~\\AppData\\Local\\Packages\\PythonSoftwareFoundation.Python.3.12_qbz5n2kfra8p0\\LocalCache\\local-packages\\Python312\\site-packages\\xgboost\\plotting.py:289\u001b[0m, in \u001b[0;36mplot_tree\u001b[1;34m(booster, fmap, num_trees, rankdir, ax, **kwargs)\u001b[0m\n\u001b[0;32m    286\u001b[0m g \u001b[38;5;241m=\u001b[39m to_graphviz(booster, fmap\u001b[38;5;241m=\u001b[39mfmap, num_trees\u001b[38;5;241m=\u001b[39mnum_trees, rankdir\u001b[38;5;241m=\u001b[39mrankdir, \u001b[38;5;241m*\u001b[39m\u001b[38;5;241m*\u001b[39mkwargs)\n\u001b[0;32m    288\u001b[0m s \u001b[38;5;241m=\u001b[39m BytesIO()\n\u001b[1;32m--> 289\u001b[0m s\u001b[38;5;241m.\u001b[39mwrite(\u001b[43mg\u001b[49m\u001b[38;5;241;43m.\u001b[39;49m\u001b[43mpipe\u001b[49m\u001b[43m(\u001b[49m\u001b[38;5;28;43mformat\u001b[39;49m\u001b[38;5;241;43m=\u001b[39;49m\u001b[38;5;124;43m\"\u001b[39;49m\u001b[38;5;124;43mpng\u001b[39;49m\u001b[38;5;124;43m\"\u001b[39;49m\u001b[43m)\u001b[49m)\n\u001b[0;32m    290\u001b[0m s\u001b[38;5;241m.\u001b[39mseek(\u001b[38;5;241m0\u001b[39m)\n\u001b[0;32m    291\u001b[0m img \u001b[38;5;241m=\u001b[39m image\u001b[38;5;241m.\u001b[39mimread(s)\n",
            "File \u001b[1;32m~\\AppData\\Local\\Packages\\PythonSoftwareFoundation.Python.3.12_qbz5n2kfra8p0\\LocalCache\\local-packages\\Python312\\site-packages\\graphviz\\piping.py:104\u001b[0m, in \u001b[0;36mPipe.pipe\u001b[1;34m(self, format, renderer, formatter, neato_no_op, quiet, engine, encoding)\u001b[0m\n\u001b[0;32m     55\u001b[0m \u001b[38;5;28;01mdef\u001b[39;00m \u001b[38;5;21mpipe\u001b[39m(\u001b[38;5;28mself\u001b[39m,\n\u001b[0;32m     56\u001b[0m          \u001b[38;5;28mformat\u001b[39m: typing\u001b[38;5;241m.\u001b[39mOptional[\u001b[38;5;28mstr\u001b[39m] \u001b[38;5;241m=\u001b[39m \u001b[38;5;28;01mNone\u001b[39;00m,\n\u001b[0;32m     57\u001b[0m          renderer: typing\u001b[38;5;241m.\u001b[39mOptional[\u001b[38;5;28mstr\u001b[39m] \u001b[38;5;241m=\u001b[39m \u001b[38;5;28;01mNone\u001b[39;00m,\n\u001b[1;32m   (...)\u001b[0m\n\u001b[0;32m     61\u001b[0m          engine: typing\u001b[38;5;241m.\u001b[39mOptional[\u001b[38;5;28mstr\u001b[39m] \u001b[38;5;241m=\u001b[39m \u001b[38;5;28;01mNone\u001b[39;00m,\n\u001b[0;32m     62\u001b[0m          encoding: typing\u001b[38;5;241m.\u001b[39mOptional[\u001b[38;5;28mstr\u001b[39m] \u001b[38;5;241m=\u001b[39m \u001b[38;5;28;01mNone\u001b[39;00m) \u001b[38;5;241m-\u001b[39m\u001b[38;5;241m>\u001b[39m typing\u001b[38;5;241m.\u001b[39mUnion[\u001b[38;5;28mbytes\u001b[39m, \u001b[38;5;28mstr\u001b[39m]:\n\u001b[0;32m     63\u001b[0m \u001b[38;5;250m    \u001b[39m\u001b[38;5;124;03m\"\"\"Return the source piped through the Graphviz layout command.\u001b[39;00m\n\u001b[0;32m     64\u001b[0m \n\u001b[0;32m     65\u001b[0m \u001b[38;5;124;03m    Args:\u001b[39;00m\n\u001b[1;32m   (...)\u001b[0m\n\u001b[0;32m    102\u001b[0m \u001b[38;5;124;03m        '<?xml version='\u001b[39;00m\n\u001b[0;32m    103\u001b[0m \u001b[38;5;124;03m    \"\"\"\u001b[39;00m\n\u001b[1;32m--> 104\u001b[0m     \u001b[38;5;28;01mreturn\u001b[39;00m \u001b[38;5;28;43mself\u001b[39;49m\u001b[38;5;241;43m.\u001b[39;49m\u001b[43m_pipe_legacy\u001b[49m\u001b[43m(\u001b[49m\u001b[38;5;28;43mformat\u001b[39;49m\u001b[43m,\u001b[49m\n\u001b[0;32m    105\u001b[0m \u001b[43m                             \u001b[49m\u001b[43mrenderer\u001b[49m\u001b[38;5;241;43m=\u001b[39;49m\u001b[43mrenderer\u001b[49m\u001b[43m,\u001b[49m\n\u001b[0;32m    106\u001b[0m \u001b[43m                             \u001b[49m\u001b[43mformatter\u001b[49m\u001b[38;5;241;43m=\u001b[39;49m\u001b[43mformatter\u001b[49m\u001b[43m,\u001b[49m\n\u001b[0;32m    107\u001b[0m \u001b[43m                             \u001b[49m\u001b[43mneato_no_op\u001b[49m\u001b[38;5;241;43m=\u001b[39;49m\u001b[43mneato_no_op\u001b[49m\u001b[43m,\u001b[49m\n\u001b[0;32m    108\u001b[0m \u001b[43m                             \u001b[49m\u001b[43mquiet\u001b[49m\u001b[38;5;241;43m=\u001b[39;49m\u001b[43mquiet\u001b[49m\u001b[43m,\u001b[49m\n\u001b[0;32m    109\u001b[0m \u001b[43m                             \u001b[49m\u001b[43mengine\u001b[49m\u001b[38;5;241;43m=\u001b[39;49m\u001b[43mengine\u001b[49m\u001b[43m,\u001b[49m\n\u001b[0;32m    110\u001b[0m \u001b[43m                             \u001b[49m\u001b[43mencoding\u001b[49m\u001b[38;5;241;43m=\u001b[39;49m\u001b[43mencoding\u001b[49m\u001b[43m)\u001b[49m\n",
            "File \u001b[1;32m~\\AppData\\Local\\Packages\\PythonSoftwareFoundation.Python.3.12_qbz5n2kfra8p0\\LocalCache\\local-packages\\Python312\\site-packages\\graphviz\\_tools.py:171\u001b[0m, in \u001b[0;36mdeprecate_positional_args.<locals>.decorator.<locals>.wrapper\u001b[1;34m(*args, **kwargs)\u001b[0m\n\u001b[0;32m    162\u001b[0m     wanted \u001b[38;5;241m=\u001b[39m \u001b[38;5;124m'\u001b[39m\u001b[38;5;124m, \u001b[39m\u001b[38;5;124m'\u001b[39m\u001b[38;5;241m.\u001b[39mjoin(\u001b[38;5;124mf\u001b[39m\u001b[38;5;124m'\u001b[39m\u001b[38;5;132;01m{\u001b[39;00mname\u001b[38;5;132;01m}\u001b[39;00m\u001b[38;5;124m=\u001b[39m\u001b[38;5;132;01m{\u001b[39;00mvalue\u001b[38;5;132;01m!r}\u001b[39;00m\u001b[38;5;124m'\u001b[39m\n\u001b[0;32m    163\u001b[0m                        \u001b[38;5;28;01mfor\u001b[39;00m name, value \u001b[38;5;129;01min\u001b[39;00m deprecated\u001b[38;5;241m.\u001b[39mitems())\n\u001b[0;32m    164\u001b[0m     warnings\u001b[38;5;241m.\u001b[39mwarn(\u001b[38;5;124mf\u001b[39m\u001b[38;5;124m'\u001b[39m\u001b[38;5;124mThe signature of \u001b[39m\u001b[38;5;132;01m{\u001b[39;00mfunc\u001b[38;5;241m.\u001b[39m\u001b[38;5;18m__name__\u001b[39m\u001b[38;5;132;01m}\u001b[39;00m\u001b[38;5;124m will be reduced\u001b[39m\u001b[38;5;124m'\u001b[39m\n\u001b[0;32m    165\u001b[0m                   \u001b[38;5;124mf\u001b[39m\u001b[38;5;124m'\u001b[39m\u001b[38;5;124m to \u001b[39m\u001b[38;5;132;01m{\u001b[39;00msupported_number\u001b[38;5;132;01m}\u001b[39;00m\u001b[38;5;124m positional args\u001b[39m\u001b[38;5;124m'\u001b[39m\n\u001b[0;32m    166\u001b[0m                   \u001b[38;5;124mf\u001b[39m\u001b[38;5;124m'\u001b[39m\u001b[38;5;124m \u001b[39m\u001b[38;5;132;01m{\u001b[39;00m\u001b[38;5;28mlist\u001b[39m(supported)\u001b[38;5;132;01m}\u001b[39;00m\u001b[38;5;124m: pass \u001b[39m\u001b[38;5;132;01m{\u001b[39;00mwanted\u001b[38;5;132;01m}\u001b[39;00m\u001b[38;5;124m'\u001b[39m\n\u001b[0;32m    167\u001b[0m                   \u001b[38;5;124m'\u001b[39m\u001b[38;5;124m as keyword arg(s)\u001b[39m\u001b[38;5;124m'\u001b[39m,\n\u001b[0;32m    168\u001b[0m                   stacklevel\u001b[38;5;241m=\u001b[39mstacklevel,\n\u001b[0;32m    169\u001b[0m                   category\u001b[38;5;241m=\u001b[39mcategory)\n\u001b[1;32m--> 171\u001b[0m \u001b[38;5;28;01mreturn\u001b[39;00m \u001b[43mfunc\u001b[49m\u001b[43m(\u001b[49m\u001b[38;5;241;43m*\u001b[39;49m\u001b[43margs\u001b[49m\u001b[43m,\u001b[49m\u001b[43m \u001b[49m\u001b[38;5;241;43m*\u001b[39;49m\u001b[38;5;241;43m*\u001b[39;49m\u001b[43mkwargs\u001b[49m\u001b[43m)\u001b[49m\n",
            "File \u001b[1;32m~\\AppData\\Local\\Packages\\PythonSoftwareFoundation.Python.3.12_qbz5n2kfra8p0\\LocalCache\\local-packages\\Python312\\site-packages\\graphviz\\piping.py:121\u001b[0m, in \u001b[0;36mPipe._pipe_legacy\u001b[1;34m(self, format, renderer, formatter, neato_no_op, quiet, engine, encoding)\u001b[0m\n\u001b[0;32m    112\u001b[0m \u001b[38;5;129m@_tools\u001b[39m\u001b[38;5;241m.\u001b[39mdeprecate_positional_args(supported_number\u001b[38;5;241m=\u001b[39m\u001b[38;5;241m2\u001b[39m)\n\u001b[0;32m    113\u001b[0m \u001b[38;5;28;01mdef\u001b[39;00m \u001b[38;5;21m_pipe_legacy\u001b[39m(\u001b[38;5;28mself\u001b[39m,\n\u001b[0;32m    114\u001b[0m                  \u001b[38;5;28mformat\u001b[39m: typing\u001b[38;5;241m.\u001b[39mOptional[\u001b[38;5;28mstr\u001b[39m] \u001b[38;5;241m=\u001b[39m \u001b[38;5;28;01mNone\u001b[39;00m,\n\u001b[1;32m   (...)\u001b[0m\n\u001b[0;32m    119\u001b[0m                  engine: typing\u001b[38;5;241m.\u001b[39mOptional[\u001b[38;5;28mstr\u001b[39m] \u001b[38;5;241m=\u001b[39m \u001b[38;5;28;01mNone\u001b[39;00m,\n\u001b[0;32m    120\u001b[0m                  encoding: typing\u001b[38;5;241m.\u001b[39mOptional[\u001b[38;5;28mstr\u001b[39m] \u001b[38;5;241m=\u001b[39m \u001b[38;5;28;01mNone\u001b[39;00m) \u001b[38;5;241m-\u001b[39m\u001b[38;5;241m>\u001b[39m typing\u001b[38;5;241m.\u001b[39mUnion[\u001b[38;5;28mbytes\u001b[39m, \u001b[38;5;28mstr\u001b[39m]:\n\u001b[1;32m--> 121\u001b[0m     \u001b[38;5;28;01mreturn\u001b[39;00m \u001b[38;5;28;43mself\u001b[39;49m\u001b[38;5;241;43m.\u001b[39;49m\u001b[43m_pipe_future\u001b[49m\u001b[43m(\u001b[49m\u001b[38;5;28;43mformat\u001b[39;49m\u001b[43m,\u001b[49m\n\u001b[0;32m    122\u001b[0m \u001b[43m                             \u001b[49m\u001b[43mrenderer\u001b[49m\u001b[38;5;241;43m=\u001b[39;49m\u001b[43mrenderer\u001b[49m\u001b[43m,\u001b[49m\n\u001b[0;32m    123\u001b[0m \u001b[43m                             \u001b[49m\u001b[43mformatter\u001b[49m\u001b[38;5;241;43m=\u001b[39;49m\u001b[43mformatter\u001b[49m\u001b[43m,\u001b[49m\n\u001b[0;32m    124\u001b[0m \u001b[43m                             \u001b[49m\u001b[43mneato_no_op\u001b[49m\u001b[38;5;241;43m=\u001b[39;49m\u001b[43mneato_no_op\u001b[49m\u001b[43m,\u001b[49m\n\u001b[0;32m    125\u001b[0m \u001b[43m                             \u001b[49m\u001b[43mquiet\u001b[49m\u001b[38;5;241;43m=\u001b[39;49m\u001b[43mquiet\u001b[49m\u001b[43m,\u001b[49m\n\u001b[0;32m    126\u001b[0m \u001b[43m                             \u001b[49m\u001b[43mengine\u001b[49m\u001b[38;5;241;43m=\u001b[39;49m\u001b[43mengine\u001b[49m\u001b[43m,\u001b[49m\n\u001b[0;32m    127\u001b[0m \u001b[43m                             \u001b[49m\u001b[43mencoding\u001b[49m\u001b[38;5;241;43m=\u001b[39;49m\u001b[43mencoding\u001b[49m\u001b[43m)\u001b[49m\n",
            "File \u001b[1;32m~\\AppData\\Local\\Packages\\PythonSoftwareFoundation.Python.3.12_qbz5n2kfra8p0\\LocalCache\\local-packages\\Python312\\site-packages\\graphviz\\piping.py:161\u001b[0m, in \u001b[0;36mPipe._pipe_future\u001b[1;34m(self, format, renderer, formatter, neato_no_op, quiet, engine, encoding)\u001b[0m\n\u001b[0;32m    159\u001b[0m     \u001b[38;5;28;01melse\u001b[39;00m:\n\u001b[0;32m    160\u001b[0m         \u001b[38;5;28;01mreturn\u001b[39;00m raw\u001b[38;5;241m.\u001b[39mdecode(encoding)\n\u001b[1;32m--> 161\u001b[0m \u001b[38;5;28;01mreturn\u001b[39;00m \u001b[38;5;28;43mself\u001b[39;49m\u001b[38;5;241;43m.\u001b[39;49m\u001b[43m_pipe_lines\u001b[49m\u001b[43m(\u001b[49m\u001b[38;5;241;43m*\u001b[39;49m\u001b[43margs\u001b[49m\u001b[43m,\u001b[49m\u001b[43m \u001b[49m\u001b[43minput_encoding\u001b[49m\u001b[38;5;241;43m=\u001b[39;49m\u001b[38;5;28;43mself\u001b[39;49m\u001b[38;5;241;43m.\u001b[39;49m\u001b[43mencoding\u001b[49m\u001b[43m,\u001b[49m\u001b[43m \u001b[49m\u001b[38;5;241;43m*\u001b[39;49m\u001b[38;5;241;43m*\u001b[39;49m\u001b[43mkwargs\u001b[49m\u001b[43m)\u001b[49m\n",
            "File \u001b[1;32m~\\AppData\\Local\\Packages\\PythonSoftwareFoundation.Python.3.12_qbz5n2kfra8p0\\LocalCache\\local-packages\\Python312\\site-packages\\graphviz\\backend\\piping.py:161\u001b[0m, in \u001b[0;36mpipe_lines\u001b[1;34m(engine, format, input_lines, input_encoding, renderer, formatter, neato_no_op, quiet)\u001b[0m\n\u001b[0;32m    155\u001b[0m cmd \u001b[38;5;241m=\u001b[39m dot_command\u001b[38;5;241m.\u001b[39mcommand(engine, \u001b[38;5;28mformat\u001b[39m,\n\u001b[0;32m    156\u001b[0m                           renderer\u001b[38;5;241m=\u001b[39mrenderer,\n\u001b[0;32m    157\u001b[0m                           formatter\u001b[38;5;241m=\u001b[39mformatter,\n\u001b[0;32m    158\u001b[0m                           neato_no_op\u001b[38;5;241m=\u001b[39mneato_no_op)\n\u001b[0;32m    159\u001b[0m kwargs \u001b[38;5;241m=\u001b[39m {\u001b[38;5;124m'\u001b[39m\u001b[38;5;124minput_lines\u001b[39m\u001b[38;5;124m'\u001b[39m: (line\u001b[38;5;241m.\u001b[39mencode(input_encoding) \u001b[38;5;28;01mfor\u001b[39;00m line \u001b[38;5;129;01min\u001b[39;00m input_lines)}\n\u001b[1;32m--> 161\u001b[0m proc \u001b[38;5;241m=\u001b[39m \u001b[43mexecute\u001b[49m\u001b[38;5;241;43m.\u001b[39;49m\u001b[43mrun_check\u001b[49m\u001b[43m(\u001b[49m\u001b[43mcmd\u001b[49m\u001b[43m,\u001b[49m\u001b[43m \u001b[49m\u001b[43mcapture_output\u001b[49m\u001b[38;5;241;43m=\u001b[39;49m\u001b[38;5;28;43;01mTrue\u001b[39;49;00m\u001b[43m,\u001b[49m\u001b[43m \u001b[49m\u001b[43mquiet\u001b[49m\u001b[38;5;241;43m=\u001b[39;49m\u001b[43mquiet\u001b[49m\u001b[43m,\u001b[49m\u001b[43m \u001b[49m\u001b[38;5;241;43m*\u001b[39;49m\u001b[38;5;241;43m*\u001b[39;49m\u001b[43mkwargs\u001b[49m\u001b[43m)\u001b[49m\n\u001b[0;32m    162\u001b[0m \u001b[38;5;28;01mreturn\u001b[39;00m proc\u001b[38;5;241m.\u001b[39mstdout\n",
            "File \u001b[1;32m~\\AppData\\Local\\Packages\\PythonSoftwareFoundation.Python.3.12_qbz5n2kfra8p0\\LocalCache\\local-packages\\Python312\\site-packages\\graphviz\\backend\\execute.py:81\u001b[0m, in \u001b[0;36mrun_check\u001b[1;34m(cmd, input_lines, encoding, quiet, **kwargs)\u001b[0m\n\u001b[0;32m     79\u001b[0m \u001b[38;5;28;01mexcept\u001b[39;00m \u001b[38;5;167;01mOSError\u001b[39;00m \u001b[38;5;28;01mas\u001b[39;00m e:\n\u001b[0;32m     80\u001b[0m     \u001b[38;5;28;01mif\u001b[39;00m e\u001b[38;5;241m.\u001b[39merrno \u001b[38;5;241m==\u001b[39m errno\u001b[38;5;241m.\u001b[39mENOENT:\n\u001b[1;32m---> 81\u001b[0m         \u001b[38;5;28;01mraise\u001b[39;00m ExecutableNotFound(cmd) \u001b[38;5;28;01mfrom\u001b[39;00m \u001b[38;5;21;01me\u001b[39;00m\n\u001b[0;32m     82\u001b[0m     \u001b[38;5;28;01mraise\u001b[39;00m\n\u001b[0;32m     84\u001b[0m \u001b[38;5;28;01mif\u001b[39;00m \u001b[38;5;129;01mnot\u001b[39;00m quiet \u001b[38;5;129;01mand\u001b[39;00m proc\u001b[38;5;241m.\u001b[39mstderr:\n",
            "\u001b[1;31mExecutableNotFound\u001b[0m: failed to execute WindowsPath('dot'), make sure the Graphviz executables are on your systems' PATH"
          ]
        },
        {
          "data": {
            "image/png": "[encoded data removed]",
            "text/plain": [
              "<Figure size 2000x800 with 1 Axes>"
            ]
          },
          "metadata": {},
          "output_type": "display_data"
        }
      ],
      "source": [
        "#Plotting a single Decision tree out of XGBoost\n",
        "from xgboost import plot_tree\n",
        "import matplotlib.pyplot as plt\n",
        "fig, ax = plt.subplots(figsize=(20, 8))\n",
        "plot_tree(XGB, num_trees=10, ax=ax)\n"
      ]
    },
    {
      "cell_type": "markdown",
      "metadata": {
        "id": "k0vttG_m0jxt"
      },
      "source": [
        "# **K-Nearest Neighbor(KNN)**\n"
      ]
    },
    {
      "cell_type": "code",
      "execution_count": 39,
      "metadata": {
        "colab": {
          "base_uri": "https://localhost:8080/"
        },
        "id": "nY3XBFX50262",
        "outputId": "3f07442e-553b-4fdd-8933-2cfbf8df667b"
      },
      "outputs": [
        {
          "name": "stdout",
          "output_type": "stream",
          "text": [
            "KNeighborsRegressor(n_neighbors=3)\n",
            "R2 Value: 0.9279700181170605\n",
            "\n",
            "##### Model Validation and Accuracy Calculations ##########\n",
            "      carat     depth     table         x         y         z  price  \\\n",
            "0  0.008316  0.530556  0.250000  0.369646  0.067912  0.077673    559   \n",
            "1  0.079002  0.472222  0.269231  0.506518  0.092020  0.102516   2201   \n",
            "2  0.041580  0.530556  0.230769  0.443203  0.080475  0.092767   1238   \n",
            "3  0.047817  0.494444  0.269231  0.458101  0.083022  0.093711   1304   \n",
            "4  0.280665  0.536111  0.230769  0.692737  0.125127  0.144969   6901   \n",
            "\n",
            "   Predictedprice  \n",
            "0           615.0  \n",
            "1          1716.0  \n",
            "2          1045.0  \n",
            "3          1044.0  \n",
            "4          8431.0  \n",
            "Mean Accuracy on test data: 77.95838624416572\n",
            "Median Accuracy on test data: 82.97872340425532\n",
            "\n",
            "Accuracy values for 10-fold Cross Validation:\n",
            " [69.80948533 66.18359038 69.944871   67.20983409 70.64364941 76.31026257\n",
            " 77.72898051 66.67135403 74.02770291 72.04243623]\n",
            "\n",
            "Final Average Accuracy of the model: 71.06\n"
          ]
        }
      ],
      "source": [
        "#kNN\n",
        "# K-Nearest Neighbor(KNN)\n",
        "from sklearn.neighbors import KNeighborsRegressor\n",
        "RegModel = KNeighborsRegressor(n_neighbors=3)\n",
        "# Printing all the parameters of KNN\n",
        "print(RegModel)\n",
        "# Creating the model on Training Data\n",
        "KNN=RegModel.fit(X_train,y_train)\n",
        "prediction=KNN.predict(X_test)\n",
        "from sklearn import metrics\n",
        "# Measuring Goodness of fit in Training data\n",
        "print('R2 Value:',metrics.r2_score(y_train, KNN.predict(X_train)))\n",
        "# Plotting the feature importance for Top 10 most important columns\n",
        "# The variable importance chart is not available for KNN\n",
        "###########################################################################\n",
        "print('\\n##### Model Validation and Accuracy Calculations ##########')\n",
        "# Printing some sample values of prediction\n",
        "TestingDataResults=pd.DataFrame(data=X_test, columns=Predictors)\n",
        "TestingDataResults[TargetVariable]=y_test\n",
        "TestingDataResults[('Predicted'+TargetVariable)]=np.round(prediction)\n",
        "# Printing sample prediction values\n",
        "print(TestingDataResults.head())\n",
        "# Calculating the error for each row\n",
        "TestingDataResults['APE']=100 * ((abs(\n",
        "TestingDataResults['price']-TestingDataResults['Predictedprice']))/TestingDataResults['price'])\n",
        "MAPE=np.mean(TestingDataResults['APE'])\n",
        "MedianMAPE=np.median(TestingDataResults['APE'])\n",
        "Accuracy =100 - MAPE\n",
        "MedianAccuracy=100- MedianMAPE\n",
        "print('Mean Accuracy on test data:', Accuracy) # Can be negative sometimes due to outlier\n",
        "print('Median Accuracy on test data:', MedianAccuracy)\n",
        "# Defining a custom function to calculate accuracy\n",
        "\n",
        "# Make sure there are no zeros in the Target variable if you are using MAPE\n",
        "def Accuracy_Score(orig,pred):\n",
        "    MAPE = np.mean(100 * (np.abs(orig-pred)/orig)) # Indent this line\n",
        "    #print('#'*70,'Accuracy:', 100-MAPE)\n",
        "    return(100-MAPE)\n",
        "# Custom Scoring MAPE calculation\n",
        "from sklearn.metrics import make_scorer\n",
        "custom_Scoring=make_scorer(Accuracy_Score, greater_is_better=True)\n",
        "# Importing cross validation function from sklearn\n",
        "from sklearn.model_selection import cross_val_score\n",
        "# Running 10-Fold Cross validation on a given algorithm\n",
        "# Passing full data X and y because the K-fold will split the data and automatically choose train/test\n",
        "Accuracy_Values=cross_val_score(RegModel, X , y, cv=10, scoring=custom_Scoring)\n",
        "print('\\nAccuracy values for 10-fold Cross Validation:\\n',Accuracy_Values)\n",
        "print('\\nFinal Average Accuracy of the model:', round(Accuracy_Values.mean(),2))\n"
      ]
    },
    {
      "cell_type": "markdown",
      "metadata": {
        "id": "LDzdZLnD1W2P"
      },
      "source": [
        "## **Support Vector Machine (SVM) Regressor**\n"
      ]
    },
    {
      "cell_type": "code",
      "execution_count": 40,
      "metadata": {
        "colab": {
          "base_uri": "https://localhost:8080/"
        },
        "id": "aKVY-teUIV7h",
        "outputId": "136ecbed-f22f-4323-8a5d-62a86be67c6e"
      },
      "outputs": [
        {
          "name": "stdout",
          "output_type": "stream",
          "text": [
            "SVR(C=50, gamma=0.01)\n",
            "R2 Value: 0.13323417122893244\n",
            "\n",
            "##### Model Validation and Accuracy Calculations ##########\n",
            "      carat     depth     table         x         y         z  price  \\\n",
            "0  0.008316  0.530556  0.250000  0.369646  0.067912  0.077673    559   \n",
            "1  0.079002  0.472222  0.269231  0.506518  0.092020  0.102516   2201   \n",
            "2  0.041580  0.530556  0.230769  0.443203  0.080475  0.092767   1238   \n",
            "3  0.047817  0.494444  0.269231  0.458101  0.083022  0.093711   1304   \n",
            "4  0.280665  0.536111  0.230769  0.692737  0.125127  0.144969   6901   \n",
            "\n",
            "   Predictedprice  \n",
            "0          1578.0  \n",
            "1          2258.0  \n",
            "2          1925.0  \n",
            "3          2001.0  \n",
            "4          3482.0  \n",
            "Mean Accuracy on test data: 23.424935147316404\n",
            "Median Accuracy on test data: 41.50816026165168\n"
          ]
        }
      ],
      "source": [
        "# Support Vector Machines(SVM)\n",
        "from sklearn import svm\n",
        "RegModel = svm.SVR(C=50, kernel='rbf', gamma=0.01)\n",
        "# Printing all the parameters\n",
        "print(RegModel)\n",
        "# Creating the model on Training Data\n",
        "SVM=RegModel.fit(X_train,y_train)\n",
        "prediction=SVM.predict(X_test)\n",
        "from sklearn import metrics\n",
        "# Measuring Goodness of fit in Training data\n",
        "print('R2 Value:',metrics.r2_score(y_train, SVM.predict(X_train)))\n",
        "# Plotting the feature importance for Top 10 most important columns\n",
        "# The built in attribute SVM.coef_ works only for linear kernel\n",
        "%matplotlib inline\n",
        "#feature_importances = pd.Series(SVM.coef_[0], index=Predictors)\n",
        "#feature_importances.nlargest(10).plot(kind='barh')\n",
        "###########################################################################\n",
        "print('\\n##### Model Validation and Accuracy Calculations ##########')\n",
        "# Printing some sample values of prediction\n",
        "TestingDataResults=pd.DataFrame(data=X_test, columns=Predictors)\n",
        "TestingDataResults[TargetVariable]=y_test\n",
        "TestingDataResults[('Predicted'+TargetVariable)]=np.round(prediction)\n",
        "# Printing sample prediction values\n",
        "print(TestingDataResults.head())\n",
        "# Calculating the error for each row\n",
        "TestingDataResults['APE']=100 * ((abs(\n",
        "TestingDataResults['price']-TestingDataResults['Predictedprice']))/TestingDataResults['price'])\n",
        "MAPE=np.mean(TestingDataResults['APE'])\n",
        "MedianMAPE=np.median(TestingDataResults['APE'])\n",
        "Accuracy =100 - MAPE\n",
        "MedianAccuracy=100- MedianMAPE\n",
        "print('Mean Accuracy on test data:', Accuracy) # Can be negative sometimes due to outlier\n",
        "print('Median Accuracy on test data:', MedianAccuracy)\n"
      ]
    },
    {
      "cell_type": "markdown",
      "metadata": {
        "id": "NJMFwgIs5nHZ"
      },
      "source": [
        "# Step 21: Model Deployment\n",
        "* Deployment of the Model - Based on the above trials we select that algorithm which produces the best average accuracy.\n",
        "\n",
        "* In this case, multiple algorithms have produced similar kind of average accuracy. Hence, we can choose any one of them.\n",
        "\n",
        "* I am choosing XGboost as the final model it has the highest accuracy!\n",
        "\n",
        "* In order to deploy the model we follow steps outlined next.\n",
        "\n",
        "* Train/Build the model again using 100% data available\n",
        "\n",
        "* Save the model as a serialized file which can be stored anywhere.\n",
        "\n",
        "* Create a python function which gets integrated with front-end Viewer(GUI/ Website etc.) to take all the inputs and returns the prediction\n",
        "\n",
        "* Choosing only the most important variables\n",
        "\n",
        "* Its beneficial to keep lesser number of predictors for the model while deploying it in production.\n",
        "\n",
        "* The lesser predictors you keep, the better it is, because the model will be less dependent on predictor columns/features, hence, more stable.\n",
        "\n",
        "* This is important specially when the data is high dimensional(too many predictor columns/features).\n",
        "\n",
        "* For this dataset, the most important predictor variables are 'LSTAT', 'RM', and 'PTRATIO'. As these are consistently on top of the variable importance chart for every algorithm. Hence choosing these as final set of predictor variables will result in better house price prediction platform/system."
      ]
    },
    {
      "cell_type": "code",
      "execution_count": 41,
      "metadata": {
        "colab": {
          "base_uri": "https://localhost:8080/"
        },
        "id": "4HkvjvbR9HTs",
        "outputId": "875fa094-c065-44bd-f708-d5678d3c180d"
      },
      "outputs": [
        {
          "name": "stdout",
          "output_type": "stream",
          "text": [
            "(53940, 6)\n",
            "(53940,)\n"
          ]
        }
      ],
      "source": [
        "# Separate Target Variable and Predictor Variables\n",
        "TargetVariable='price'\n",
        "\n",
        "# Selecting the final set of predictors for the deployment\n",
        "# Based on the variable importance charts of multiple algorithms above\n",
        "Predictors=['carat','depth', 'table','x','y','z']\n",
        "\n",
        "X=DataForML_Numeric[Predictors].values\n",
        "y=DataForML_Numeric[TargetVariable].values\n",
        "\n",
        "### Sandardization of data ###\n",
        "from sklearn.preprocessing import StandardScaler, MinMaxScaler\n",
        "# Choose either standardization or Normalization\n",
        "# On this data Min Max Normalization produced better results\n",
        "\n",
        "# Choose between standardization and MinMAx normalization\n",
        "#PredictorScaler=StandardScaler()\n",
        "PredictorScaler=MinMaxScaler()\n",
        "\n",
        "# Storing the fit object for later reference\n",
        "PredictorScalerFit=PredictorScaler.fit(X)\n",
        "\n",
        "# Generating the standardized values of X\n",
        "X=PredictorScalerFit.transform(X)\n",
        "\n",
        "print(X.shape)\n",
        "print(y.shape)"
      ]
    },
    {
      "cell_type": "markdown",
      "metadata": {
        "id": "0sEhrnAAIGOM"
      },
      "source": [
        "**# Step 22: Retraining the final model using 100% data**"
      ]
    },
    {
      "cell_type": "code",
      "execution_count": 42,
      "metadata": {
        "id": "0m1-QNnNIJn9"
      },
      "outputs": [],
      "source": [
        "# Training the model on 100% Data available\n",
        "Final_XGB_Model=RegModel.fit(X,y)"
      ]
    },
    {
      "cell_type": "markdown",
      "metadata": {
        "id": "5kyhhhmgKEU4"
      },
      "source": [
        "**# Step 23: Save the model as a serialized file which can be stored anywhere**"
      ]
    },
    {
      "cell_type": "code",
      "execution_count": 43,
      "metadata": {
        "colab": {
          "base_uri": "https://localhost:8080/"
        },
        "id": "_AU4Lo-vKJRt",
        "outputId": "05cb9702-8838-4058-bb3b-510cd6ba7656"
      },
      "outputs": [
        {
          "name": "stdout",
          "output_type": "stream",
          "text": [
            "pickle file of Predictive Model is saved at Location: c:\\Users\\Baoryan\\Downloads\\quoc\n"
          ]
        }
      ],
      "source": [
        "import pickle\n",
        "import os\n",
        "\n",
        "# Saving the Python objects as serialized files can be done using pickle library\n",
        "# Here let us save the Final model\n",
        "with open('Final_XGB_Model.pkl', 'wb') as fileWriteStream:\n",
        "    pickle.dump(Final_XGB_Model, fileWriteStream)\n",
        "    # Don't forget to close the filestream!\n",
        "    fileWriteStream.close()\n",
        "\n",
        "print('pickle file of Predictive Model is saved at Location:',os.getcwd())"
      ]
    },
    {
      "cell_type": "markdown",
      "metadata": {
        "id": "dsHUfyNiKNcu"
      },
      "source": [
        "**# Step 24: Create a python function**"
      ]
    },
    {
      "cell_type": "code",
      "execution_count": 44,
      "metadata": {
        "id": "dmRE3HX9KQDV"
      },
      "outputs": [],
      "source": [
        "from re import IGNORECASE\n",
        "import os\n",
        "# This Function can be called from any from any front end tool/website\n",
        "\n",
        "def FunctionPredictResult(InputData):\n",
        "    import pandas as pd\n",
        "    Num_Inputs=InputData.shape[0]\n",
        "\n",
        "    # Making sure the input data has same columns as it was used for training the model\n",
        "    # Also, if standardization/normalization was done, then same must be done for new input\n",
        "\n",
        "    # Appending the new data with the Training data\n",
        "    # Check if the file exists before attempting to read it.\n",
        "    if os.path.exists('DataForML.pkl'):\n",
        "        DataForML=pd.read_pickle('DataForML.pkl')\n",
        "        InputData = pd.concat([InputData, DataForML], ignore_index=True)\n",
        "    else:\n",
        "        # Handle the case where the file is not found,\n",
        "        # e.g., by raising an error or using a default dataset.\n",
        "        raise FileNotFoundError(\"The file 'DataForML.pkl' was not found. Please make sure it exists in the current directory.\")\n",
        "\n",
        "    # Generating dummy variables for rest of the nominal variables\n",
        "    InputData=pd.get_dummies(InputData)\n",
        "\n",
        "    # Maintaining the same order of columns as it was during the model training\n",
        "    Predictors=['carat','depth', 'table','x','y','z']\n",
        "\n",
        "    # Generating the input values to the model\n",
        "    X=InputData[Predictors].values[0:Num_Inputs]\n",
        "\n",
        "    # Generating the standardized values of X since it was done while model training also\n",
        "    # Make sure that 'PredictorScalerFit' is defined and accessible in this function.\n",
        "    X=PredictorScalerFit.transform(X)\n",
        "\n",
        "    # Loading the Function from pickle file\n",
        "    import pickle\n",
        "    with open('Final_XGB_Model.pkl', 'rb') as fileReadStream:\n",
        "        PredictionModel=pickle.load(fileReadStream)\n",
        "        # Don't forget to close the filestream!\n",
        "        fileReadStream.close()\n",
        "\n",
        "    # Genrating Predictions\n",
        "    Prediction=PredictionModel.predict(X)\n",
        "    PredictionResult=pd.DataFrame(Prediction, columns=['Prediction'])\n",
        "    return(PredictionResult)"
      ]
    },
    {
      "cell_type": "markdown",
      "metadata": {
        "id": "cgP6HsthLR0y"
      },
      "source": [
        "**# Step 25: Calling the function for some new data**"
      ]
    },
    {
      "cell_type": "code",
      "execution_count": 45,
      "metadata": {
        "colab": {
          "base_uri": "https://localhost:8080/",
          "height": 164
        },
        "id": "bYoFjHnkLVqD",
        "outputId": "4887c3a7-fcc2-4864-8379-126a99b5904e"
      },
      "outputs": [
        {
          "name": "stdout",
          "output_type": "stream",
          "text": [
            "   carat  depth  table     x     y     z\n",
            "0   0.23   61.5     55  3.95  3.98  2.43\n",
            "1   0.21   59.8     61  3.89  3.84  2.31\n"
          ]
        },
        {
          "data": {
            "text/html": [
              "<div>\n",
              "<style scoped>\n",
              "    .dataframe tbody tr th:only-of-type {\n",
              "        vertical-align: middle;\n",
              "    }\n",
              "\n",
              "    .dataframe tbody tr th {\n",
              "        vertical-align: top;\n",
              "    }\n",
              "\n",
              "    .dataframe thead th {\n",
              "        text-align: right;\n",
              "    }\n",
              "</style>\n",
              "<table border=\"1\" class=\"dataframe\">\n",
              "  <thead>\n",
              "    <tr style=\"text-align: right;\">\n",
              "      <th></th>\n",
              "      <th>Prediction</th>\n",
              "    </tr>\n",
              "  </thead>\n",
              "  <tbody>\n",
              "    <tr>\n",
              "      <th>0</th>\n",
              "      <td>1212.405292</td>\n",
              "    </tr>\n",
              "    <tr>\n",
              "      <th>1</th>\n",
              "      <td>1200.150285</td>\n",
              "    </tr>\n",
              "  </tbody>\n",
              "</table>\n",
              "</div>"
            ],
            "text/plain": [
              "    Prediction\n",
              "0  1212.405292\n",
              "1  1200.150285"
            ]
          },
          "execution_count": 45,
          "metadata": {},
          "output_type": "execute_result"
        }
      ],
      "source": [
        "# Calling the function for some new data\n",
        "NewSampleData=pd.DataFrame(data=[[0.23,61.5,55,3.95,3.98,2.43],[0.21,59.8,61,3.89,3.84,2.31]],columns=['carat','depth','table','x','y','z'])\n",
        "\n",
        "print(NewSampleData)\n",
        "\n",
        "# Calling the Function for prediction\n",
        "FunctionPredictResult(InputData=NewSampleData)"
      ]
    },
    {
      "cell_type": "markdown",
      "metadata": {
        "id": "B_zAoMZyLd0N"
      },
      "source": [
        "# Conclusion\n",
        "* The Function FunctionPredictResult() can be used to produce the predictions for one or more new cases at a time.\n",
        "* Hence, it can be scheduled using a batch job or cron job to run every night and generate predictions for all the house price tasks  in the platform /system."
      ]
    },
    {
      "cell_type": "markdown",
      "metadata": {
        "id": "qRTwCuQZLgd2"
      },
      "source": [
        "# Deploying a predictive model as an API\n",
        "* Django and flask are two popular ways to deploy predictive models as a web service\n",
        "* You can call your predictive models using a URL from any front end like tableau, java or angular js\n"
      ]
    },
    {
      "cell_type": "markdown",
      "metadata": {
        "id": "FYKfCSTlLiwM"
      },
      "source": [
        "# Deploying the model with few parameters\n",
        "# Function for predictions API"
      ]
    },
    {
      "cell_type": "code",
      "execution_count": 46,
      "metadata": {
        "colab": {
          "base_uri": "https://localhost:8080/",
          "height": 35
        },
        "id": "vQBmv0hhbuI7",
        "outputId": "510d91fe-924e-4e33-e900-fba5f60a5648"
      },
      "outputs": [
        {
          "data": {
            "text/plain": [
              "'{\"Prediction\":{\"0\":1212.4052916339}}'"
            ]
          },
          "execution_count": 46,
          "metadata": {},
          "output_type": "execute_result"
        }
      ],
      "source": [
        "# Creating the function which can take inputs and return prediction\n",
        "def FunctionGeneratePrediction(inp_carat,inp_depth,inp_table,inp_x, inp_y, inp_z): # Changed argument name here\n",
        "\n",
        "    # Creating a data frame for the model input\n",
        "    SampleInputData=pd.DataFrame(\n",
        "     data=[[inp_carat,inp_depth,inp_table,inp_x, inp_y, inp_z]],\n",
        "     columns=['carat','depth', 'table','x','y','z'])\n",
        "\n",
        "    # Calling the function defined above using the input parameters\n",
        "    Predictions=FunctionPredictResult(InputData= SampleInputData)\n",
        "\n",
        "    # Returning the predictions\n",
        "    return(Predictions.to_json())\n",
        "\n",
        "# Function call\n",
        "FunctionGeneratePrediction( inp_carat=0.23,inp_depth=61.5,inp_table=55,inp_x=3.95, inp_y=3.98, inp_z=2.43) # Argument name changed to match"
      ]
    },
    {
      "cell_type": "markdown",
      "metadata": {
        "id": "p583HIngcONx"
      },
      "source": [
        "# Web Deployment using Flask Library/Package\n",
        "# Installing the flask library required to create the API\n"
      ]
    },
    {
      "cell_type": "code",
      "execution_count": null,
      "metadata": {
        "colab": {
          "base_uri": "https://localhost:8080/"
        },
        "id": "Q0iXtrQScRby",
        "outputId": "763fe6e9-1f00-4500-9e2f-ed503aacb4dc"
      },
      "outputs": [
        {
          "name": "stdout",
          "output_type": "stream",
          "text": [
            "Requirement already satisfied: flask in /usr/local/lib/python3.10/dist-packages (2.2.5)\n",
            "Requirement already satisfied: Werkzeug>=2.2.2 in /usr/local/lib/python3.10/dist-packages (from flask) (3.0.3)\n",
            "Requirement already satisfied: Jinja2>=3.0 in /usr/local/lib/python3.10/dist-packages (from flask) (3.1.4)\n",
            "Requirement already satisfied: itsdangerous>=2.0 in /usr/local/lib/python3.10/dist-packages (from flask) (2.2.0)\n",
            "Requirement already satisfied: click>=8.0 in /usr/local/lib/python3.10/dist-packages (from flask) (8.1.7)\n",
            "Requirement already satisfied: MarkupSafe>=2.0 in /usr/local/lib/python3.10/dist-packages (from Jinja2>=3.0->flask) (2.1.5)\n"
          ]
        }
      ],
      "source": [
        "!pip install flask"
      ]
    },
    {
      "cell_type": "markdown",
      "metadata": {
        "id": "8IKeI6ZYcV2b"
      },
      "source": [
        "# Creating Flask API\n",
        "\n"
      ]
    },
    {
      "cell_type": "code",
      "execution_count": 47,
      "metadata": {
        "id": "zt44pb5qcYIz"
      },
      "outputs": [],
      "source": [
        "from flask import Flask, request, jsonify\n",
        "import pickle\n",
        "import pandas as pd\n",
        "import numpy"
      ]
    },
    {
      "cell_type": "code",
      "execution_count": 48,
      "metadata": {
        "id": "mLf4jpGTcaTo"
      },
      "outputs": [],
      "source": [
        "app = Flask(__name__)\n",
        "\n",
        "@app.route('/prediction_api', methods=[\"GET\"])\n",
        "def prediction_api():\n",
        "    try:\n",
        "        # Getting the paramters from API call\n",
        "        carat_value = float(request.args.get('carat'))\n",
        "        depth_value = float(request.args.get('depth'))\n",
        "        table_value = float(request.args.get('table'))\n",
        "        x_value = float(request.args.get('x'))\n",
        "        y_value = float(request.args.get('y'))\n",
        "        z_value = float(request.args.get('z'))\n",
        "\n",
        "\n",
        "        # Calling the funtion to get predictions\n",
        "        prediction_from_api=FunctionGeneratePrediction(\n",
        "                                                       inp_carat,\n",
        "                                                       inp_depth,\n",
        "                                                       inp_table,\n",
        "                                                       inp_x,\n",
        "                                                       inp_y,\n",
        "                                                       inp_z\n",
        "                                                )\n",
        "\n",
        "        return (prediction_from_api)\n",
        "\n",
        "    except Exception as e:\n",
        "        return('Something is not right!:'+str(e))"
      ]
    },
    {
      "cell_type": "markdown",
      "metadata": {
        "id": "JGd0fSLlc4p6"
      },
      "source": [
        "### Starting the API engine"
      ]
    },
    {
      "cell_type": "code",
      "execution_count": null,
      "metadata": {
        "colab": {
          "background_save": true,
          "base_uri": "https://localhost:8080/"
        },
        "id": "28-U7zByLvLi",
        "outputId": "dac5ae07-2720-4f79-c4ff-3bb667156ed4"
      },
      "outputs": [
        {
          "name": "stdout",
          "output_type": "stream",
          "text": [
            " * Serving Flask app '__main__'\n",
            " * Debug mode: on\n"
          ]
        },
        {
          "name": "stderr",
          "output_type": "stream",
          "text": [
            "INFO:werkzeug:\u001b[31m\u001b[1mWARNING: This is a development server. Do not use it in a production deployment. Use a production WSGI server instead.\u001b[0m\n",
            " * Running on http://127.0.0.1:9000\n",
            "INFO:werkzeug:\u001b[33mPress CTRL+C to quit\u001b[0m\n"
          ]
        }
      ],
      "source": [
        "import os\n",
        "if __name__ ==\"__main__\":\n",
        "\n",
        "    # Hosting the API in localhost\n",
        "    app.run(host='127.0.0.1', port=9000, threaded=True, debug=True, use_reloader=False)\n",
        "    # Interrupt kernel to stop the API"
      ]
    },
    {
      "cell_type": "code",
      "execution_count": 50,
      "metadata": {
        "id": "6ZVG4WIldrCk"
      },
      "outputs": [],
      "source": [
        "import tkinter as tk\n",
        "from tkinter import ttk, messagebox\n",
        "import pandas as pd\n",
        "from sklearn.model_selection import train_test_split\n",
        "from xgboost import XGBRegressor\n",
        "import os\n",
        "\n",
        "class DiamondsPricePredictionApp:\n",
        "    def __init__(self, master):\n",
        "        self.master = master\n",
        "        self.master.title('Diamonds Price Prediction')\n",
        "\n",
        "        file_path = 'diamonds.csv'\n",
        "        if not os.path.exists(file_path):\n",
        "            messagebox.showerror(\"Error\", f\"File '{file_path}' not found.\")\n",
        "            return\n",
        "\n",
        "        self.data = pd.read_csv(file_path)\n",
        "        \n",
        "        # Drop the unnamed index column if it exists\n",
        "        if 'Unnamed: 0' in self.data.columns:\n",
        "            self.data = self.data.drop(columns=['Unnamed: 0'])\n",
        "\n",
        "        self.features = ['carat', 'depth', 'table', 'x', 'y', 'z', 'cut', 'color', 'clarity']\n",
        "        self.inputs = {}\n",
        "\n",
        "        # Convert categorical features to numeric using get_dummies\n",
        "        self.X = pd.get_dummies(self.data.drop('price', axis=1), drop_first=True)\n",
        "        self.y = self.data['price']\n",
        "\n",
        "        self.X_train, self.X_test, self.y_train, self.y_test = train_test_split(self.X, self.y, test_size=0.2, random_state=42)\n",
        "\n",
        "        self.model = XGBRegressor()\n",
        "        self.model.fit(self.X_train, self.y_train)\n",
        "\n",
        "        self.create_widgets()\n",
        "\n",
        "    def create_widgets(self):\n",
        "        for i, feature in enumerate(self.features):\n",
        "            label = tk.Label(self.master, text=f'{feature.capitalize()}:')\n",
        "            label.grid(row=i, column=0, sticky=tk.W, pady=2)\n",
        "\n",
        "            if feature in ['carat', 'depth', 'table', 'x', 'y', 'z']:\n",
        "                entry = tk.Entry(self.master)\n",
        "                entry.grid(row=i, column=1, pady=2)\n",
        "                self.inputs[feature] = entry\n",
        "            elif feature == 'cut':\n",
        "                cut_options = ['Fair', 'Good', 'Very Good', 'Premium', 'Ideal']\n",
        "                cut_combobox = ttk.Combobox(self.master, values=cut_options)\n",
        "                cut_combobox.grid(row=i, column=1, pady=2)\n",
        "                self.inputs[feature] = cut_combobox\n",
        "            elif feature == 'color':\n",
        "                color_options = ['D', 'E', 'F', 'G', 'H', 'I', 'J']\n",
        "                color_combobox = ttk.Combobox(self.master, values=color_options)\n",
        "                color_combobox.grid(row=i, column=1, pady=2)\n",
        "                self.inputs[feature] = color_combobox\n",
        "            elif feature == 'clarity':\n",
        "                clarity_options = ['IF', 'VVS1', 'VVS2', 'VS1', 'VS2', 'SI1', 'SI2']\n",
        "                clarity_combobox = ttk.Combobox(self.master, values=clarity_options)\n",
        "                clarity_combobox.grid(row=i, column=1, pady=2)\n",
        "                self.inputs[feature] = clarity_combobox\n",
        "\n",
        "        predict_button = tk.Button(self.master, text='Submit', command=self.predict_price)\n",
        "        predict_button.grid(row=len(self.features), column=1, pady=10)\n",
        "\n",
        "    def predict_price(self):\n",
        "        # Prepare inputs for prediction\n",
        "        input_data = {}\n",
        "        for feature in self.features:\n",
        "            value = self.inputs[feature].get()\n",
        "            if feature in ['carat', 'depth', 'table', 'x', 'y', 'z']:\n",
        "                input_data[feature] = [float(value)]\n",
        "            else:\n",
        "                for category in self.X.columns:\n",
        "                    if category.startswith(feature + '_'):\n",
        "                        input_data[category] = [1 if category.endswith(value) else 0]\n",
        "\n",
        "        # Convert input data to DataFrame\n",
        "        input_df = pd.DataFrame(input_data)\n",
        "\n",
        "        # Ensure all columns are present\n",
        "        for column in self.X.columns:\n",
        "            if column not in input_df.columns:\n",
        "                input_df[column] = 0\n",
        "\n",
        "        # Order columns as in training data\n",
        "        input_df = input_df[self.X.columns]\n",
        "\n",
        "        # Predict price\n",
        "        try:\n",
        "            price = self.model.predict(input_df)\n",
        "            messagebox.showinfo('Predicted Price', f'The predicted diamond price is ${price[0]:.2f}')\n",
        "        except Exception as e:\n",
        "            messagebox.showerror(\"Error\", str(e))\n",
        "\n",
        "if __name__ == '__main__':\n",
        "    root = tk.Tk()\n",
        "    app = DiamondsPricePredictionApp(root)\n",
        "    root.mainloop()\n"
      ]
    }
  ],
  "metadata": {
    "colab": {
      "provenance": []
    },
    "kernelspec": {
      "display_name": "Python 3",
      "name": "python3"
    },
    "language_info": {
      "codemirror_mode": {
        "name": "ipython",
        "version": 3
      },
      "file_extension": ".py",
      "mimetype": "text/x-python",
      "name": "python",
      "nbconvert_exporter": "python",
      "pygments_lexer": "ipython3",
      "version": "3.12.5"
    }
  },
  "nbformat": 4,
  "nbformat_minor": 0
}
